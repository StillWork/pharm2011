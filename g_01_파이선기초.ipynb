{
 "cells": [
  {
   "cell_type": "markdown",
   "metadata": {
    "colab_type": "text",
    "id": "iOhdJTmfkTkb"
   },
   "source": [
    "# 파이선과 쥬피터 노트북\n",
    "## 코랩에서는 이 프로그램을 \"사본 저장\"한 후에 사용해야 함\n",
    "-  '파일', '드라이브에 사본 저장...'\n",
    "- 이름은 원하는대로 변경할 수 있음\n",
    "- 사본은 본인의 구글드라이브에 '내 드라이브', 'Colab Notebooks' 폴더에 자동 저장됨 \n",
    "\n",
    "## 파이선 기본 변수\n",
    "- 정수(int), 부동소수(float), 문자(strings), 불리언(True/False),  \n",
    "- 리스트(list), 배열(array), 튜풀(tuple), 사전(dictionary), \n",
    "- range, datetime\n",
    "\n",
    "## if, for, def  \n",
    "- \":\" 필요\n",
    "- 들여쓰기가 일정해야 함\n",
    "\n",
    "## 그래프\n",
    "- matplotlib, plot, scatter\n"
   ]
  },
  {
   "cell_type": "markdown",
   "metadata": {
    "colab_type": "text",
    "id": "tFnOyiRkKaoZ"
   },
   "source": [
    "# 쥬피터 사용\n",
    "- colab 사용 (구글 클라우드) \n",
    "- 자신의 PC에서는 아나콘다(anaconda)를 설치한 후 jupyter notebook 프로그램 실행\n",
    "- colab에서 PC로 다운로드하려면 '파일' - '.ipynb 다운로드' 선택\n",
    "- PC의 파일을 colab에서 읽으려면 '파일' - '노트 업로드' 선택"
   ]
  },
  {
   "cell_type": "markdown",
   "metadata": {
    "colab_type": "text",
    "id": "fjkX2ae7Kaoa"
   },
   "source": [
    "## 쥬피터 팁\n",
    "\n",
    "- 각 셀은 프로그램 코드 또는 문서(마크업 문서 지원) 둘 중 하나로 사용된다.\n",
    "- 셀을 실행하려면 Shift + Enter 를 입력한다 (셀 실행후 커서가 다음 셀로 이동)\n",
    "- 셀을 Ctrl + Enter로 실행하면 셀 실행 후에 현재의 셀에 남아 있는다. \n",
    "### 코랩에서 셀에 대한 명령어 (ctrl + m + ...)\n",
    "- h  help\n",
    "- a  위에 셀 추가 (above)\n",
    "- b  아래에 셀 추가 (below)\n",
    "- d  셀 삭제 (delete)\n",
    "- m  문서 모드로 전환 (mark up)\n",
    "- y  code 모드로 전환\n",
    "- o  출력 보이기/안보이기 (output)\n",
    "- '-' 셀 둘로 나누기\n",
    "- 'shift' 두 개 이상의 셀 선택 후에 (ctrl + 클릭으로) 셀 합치기\n",
    "\n",
    "### PC에서 사용할 때\n",
    "-  편집창 아닌 명령 모드(셀 위부를 클릭) 에서 ctrl + m 없이 단축 문자만 입력 (a, b, x, o 등)\n",
    "-  셀을 나눌 때는 ctrl + shift + '-'\n",
    "-  바로 아래의 셀을 합칠 때는 ctrl + shift + m\n"
   ]
  },
  {
   "cell_type": "markdown",
   "metadata": {
    "colab_type": "text",
    "id": "X3dBIDyofMpX"
   },
   "source": [
    "# 파이선 기초 문법"
   ]
  },
  {
   "cell_type": "code",
   "execution_count": 1,
   "metadata": {
    "colab": {},
    "colab_type": "code",
    "id": "QosL1F6CfMpY",
    "outputId": "265957ec-434a-4637-f4cf-56336667a62e"
   },
   "outputs": [
    {
     "data": {
      "text/plain": [
       "3"
      ]
     },
     "execution_count": 1,
     "metadata": {},
     "output_type": "execute_result"
    }
   ],
   "source": [
    "x=3; x"
   ]
  },
  {
   "cell_type": "code",
   "execution_count": 2,
   "metadata": {
    "colab": {},
    "colab_type": "code",
    "id": "QosL1F6CfMpY",
    "outputId": "265957ec-434a-4637-f4cf-56336667a62e",
    "scrolled": true
   },
   "outputs": [
    {
     "data": {
      "text/plain": [
       "3.5"
      ]
     },
     "execution_count": 2,
     "metadata": {},
     "output_type": "execute_result"
    }
   ],
   "source": [
    "y = 0.5 ; x+y"
   ]
  },
  {
   "cell_type": "code",
   "execution_count": 0,
   "metadata": {
    "colab": {},
    "colab_type": "code",
    "id": "VTIqoTRSfMpm",
    "outputId": "74472922-5f3d-465d-d640-6f2853494804"
   },
   "outputs": [
    {
     "data": {
      "text/plain": [
       "(int, float)"
      ]
     },
     "execution_count": 4,
     "metadata": {
      "tags": []
     },
     "output_type": "execute_result"
    }
   ],
   "source": [
    "type(x), type(y)"
   ]
  },
  {
   "cell_type": "code",
   "execution_count": 0,
   "metadata": {
    "colab": {},
    "colab_type": "code",
    "id": "xaxF7s5ufMpr",
    "outputId": "cb9fa748-3209-4ec6-efdd-379bf1aa4240",
    "scrolled": false
   },
   "outputs": [
    {
     "name": "stdout",
     "output_type": "stream",
     "text": [
      "문자열을 출력\n",
      "따옴표는 하나도 됩니다\n"
     ]
    }
   ],
   "source": [
    "print(\"문자열을 출력\")\n",
    "print('따옴표는 하나도 됩니다')"
   ]
  },
  {
   "cell_type": "code",
   "execution_count": 0,
   "metadata": {
    "colab": {},
    "colab_type": "code",
    "id": "li-KXSyVfMpv",
    "outputId": "83d20d0b-583f-4813-d36a-992fb6925c94"
   },
   "outputs": [
    {
     "data": {
      "text/plain": [
       "False"
      ]
     },
     "execution_count": 6,
     "metadata": {
      "tags": []
     },
     "output_type": "execute_result"
    }
   ],
   "source": [
    "a = True\n",
    "b = False\n",
    "a & b"
   ]
  },
  {
   "cell_type": "markdown",
   "metadata": {},
   "source": [
    "## 연산시 True는 1로, False는 0으로 취급된다"
   ]
  },
  {
   "cell_type": "code",
   "execution_count": 0,
   "metadata": {
    "colab": {},
    "colab_type": "code",
    "id": "8hYf20fffMpz",
    "outputId": "8f84af13-8047-4b37-e683-0095f9dd4b0c"
   },
   "outputs": [
    {
     "data": {
      "text/plain": [
       "4"
      ]
     },
     "execution_count": 7,
     "metadata": {
      "tags": []
     },
     "output_type": "execute_result"
    }
   ],
   "source": [
    "a + 3 + b"
   ]
  },
  {
   "cell_type": "code",
   "execution_count": 0,
   "metadata": {
    "colab": {},
    "colab_type": "code",
    "id": "WkZXtkAzfMp2",
    "outputId": "e6bba6f4-78e6-464e-ed0f-1ee8c5a93eaa"
   },
   "outputs": [
    {
     "data": {
      "text/plain": [
       "15"
      ]
     },
     "execution_count": 8,
     "metadata": {
      "tags": []
     },
     "output_type": "execute_result"
    }
   ],
   "source": [
    "a + a + a + a + a + 10"
   ]
  },
  {
   "cell_type": "markdown",
   "metadata": {
    "colab_type": "text",
    "id": "SR1EuTvjfMp7"
   },
   "source": [
    "## 리스트\n",
    "- 여러 항목의 집합체로 각 항목의 타입은 서로 달라도 된다.\n",
    "- 리스트를 만들려면 대괄호 [ ]를 사용하고 각 항목을 ','로 구분한다"
   ]
  },
  {
   "cell_type": "code",
   "execution_count": 0,
   "metadata": {
    "colab": {},
    "colab_type": "code",
    "id": "vfmktw7gfMp8",
    "outputId": "9d702bf1-2d24-4712-84ec-8f7e8424762c"
   },
   "outputs": [
    {
     "data": {
      "text/plain": [
       "[1, 2, 3]"
      ]
     },
     "execution_count": 9,
     "metadata": {
      "tags": []
     },
     "output_type": "execute_result"
    }
   ],
   "source": [
    "item_2 = list([1,2,3])\n",
    "item_2"
   ]
  },
  {
   "cell_type": "code",
   "execution_count": 0,
   "metadata": {
    "colab": {},
    "colab_type": "code",
    "id": "aJDVIfuifMqA",
    "outputId": "afdee7bc-89cc-4c77-a5ff-de85d4879877"
   },
   "outputs": [
    {
     "data": {
      "text/plain": [
       "[1, 2, 3, 4, 5, 'kim', 1, 2, 3, 4, 5, 'kim']"
      ]
     },
     "execution_count": 10,
     "metadata": {
      "tags": []
     },
     "output_type": "execute_result"
    }
   ],
   "source": [
    "items = [1, 2, 3, 4, 5, 'kim']\n",
    "items*2"
   ]
  },
  {
   "cell_type": "code",
   "execution_count": 0,
   "metadata": {
    "colab": {},
    "colab_type": "code",
    "id": "54v-f8W8fMqD",
    "outputId": "b52ca47c-248f-4829-c033-f5af94893d0b"
   },
   "outputs": [
    {
     "data": {
      "text/plain": [
       "6"
      ]
     },
     "execution_count": 11,
     "metadata": {
      "tags": []
     },
     "output_type": "execute_result"
    }
   ],
   "source": [
    "# 리스트의 길이\n",
    "len(items)"
   ]
  },
  {
   "cell_type": "code",
   "execution_count": 0,
   "metadata": {
    "colab": {},
    "colab_type": "code",
    "id": "NCikFr1afMqG",
    "outputId": "bd91297a-d9b2-4173-9ff9-deb51da01bf5"
   },
   "outputs": [
    {
     "data": {
      "text/plain": [
       "1"
      ]
     },
     "execution_count": 12,
     "metadata": {
      "tags": []
     },
     "output_type": "execute_result"
    }
   ],
   "source": [
    "# 리스트에서 위치 번호는 '1'이 아니라 '0'부터 시작한다.\n",
    "items[0]"
   ]
  },
  {
   "cell_type": "code",
   "execution_count": 0,
   "metadata": {
    "colab": {},
    "colab_type": "code",
    "id": "pIgg8MmlfMqJ",
    "outputId": "5d71e0f9-9462-4cd0-f2b5-a083e26ed07d",
    "scrolled": true
   },
   "outputs": [
    {
     "data": {
      "text/plain": [
       "[1, 2, 100, 4, 5, 'kim']"
      ]
     },
     "execution_count": 13,
     "metadata": {
      "tags": []
     },
     "output_type": "execute_result"
    }
   ],
   "source": [
    "# 3번째 항목을 값을 바꾸었다.\n",
    "items[2]=100\n",
    "items"
   ]
  },
  {
   "cell_type": "code",
   "execution_count": 0,
   "metadata": {
    "colab": {},
    "colab_type": "code",
    "id": "PZNFeB9hfMqN",
    "outputId": "3c15b21b-5c03-4a17-83f7-d3c805cac456"
   },
   "outputs": [
    {
     "data": {
      "text/plain": [
       "[1, 2]"
      ]
     },
     "execution_count": 14,
     "metadata": {
      "tags": []
     },
     "output_type": "execute_result"
    }
   ],
   "source": [
    "items[:2]"
   ]
  },
  {
   "cell_type": "code",
   "execution_count": 0,
   "metadata": {
    "colab": {},
    "colab_type": "code",
    "id": "CCZqGacyfMqR",
    "outputId": "2b8132ca-9cc8-4e38-ed45-3a1e8d93c8ca"
   },
   "outputs": [
    {
     "data": {
      "text/plain": [
       "'kim'"
      ]
     },
     "execution_count": 15,
     "metadata": {
      "tags": []
     },
     "output_type": "execute_result"
    }
   ],
   "source": [
    "# 뒤에서부터 인덱싱할 때는 '-' 를 사용한다.\n",
    "items[-1]"
   ]
  },
  {
   "cell_type": "code",
   "execution_count": 0,
   "metadata": {
    "colab": {},
    "colab_type": "code",
    "id": "RmIGHOezfMqW",
    "outputId": "23f5a32b-013b-45c0-be0c-ec6138a22698"
   },
   "outputs": [
    {
     "data": {
      "text/plain": [
       "5"
      ]
     },
     "execution_count": 16,
     "metadata": {
      "tags": []
     },
     "output_type": "execute_result"
    }
   ],
   "source": [
    "items[-2]"
   ]
  },
  {
   "cell_type": "code",
   "execution_count": 0,
   "metadata": {
    "colab": {},
    "colab_type": "code",
    "id": "PJOF9IuZfMqZ",
    "outputId": "b8cea724-8db4-49da-8716-c2fd4258f6d4"
   },
   "outputs": [
    {
     "data": {
      "text/plain": [
       "[100, 4, 5, 'kim']"
      ]
     },
     "execution_count": 17,
     "metadata": {
      "tags": []
     },
     "output_type": "execute_result"
    }
   ],
   "source": [
    "# 리스트의 일부 구간만 얻으려면 슬라이스(slice) ':'를 사용한다\n",
    "items[2:]"
   ]
  },
  {
   "cell_type": "code",
   "execution_count": 0,
   "metadata": {
    "colab": {},
    "colab_type": "code",
    "id": "pGiDaZPlfMqb",
    "outputId": "eea78958-9f8e-4b20-8d25-6105e20997b8"
   },
   "outputs": [
    {
     "data": {
      "text/plain": [
       "[100, 4, 5, 'kim']"
      ]
     },
     "execution_count": 18,
     "metadata": {
      "tags": []
     },
     "output_type": "execute_result"
    }
   ],
   "source": [
    "items[2:]"
   ]
  },
  {
   "cell_type": "code",
   "execution_count": 0,
   "metadata": {
    "colab": {},
    "colab_type": "code",
    "id": "XpSrOjU2fMqe",
    "outputId": "682d1a04-f04c-4f7f-a8ee-a3e44f7765c3"
   },
   "outputs": [
    {
     "data": {
      "text/plain": [
       "[1, 2, 100, 4, 5, 'kim', 'park']"
      ]
     },
     "execution_count": 19,
     "metadata": {
      "tags": []
     },
     "output_type": "execute_result"
    }
   ],
   "source": [
    "items.append('park'); items"
   ]
  },
  {
   "cell_type": "markdown",
   "metadata": {
    "colab_type": "text",
    "id": "v_cZd_gQfMqh"
   },
   "source": [
    "## 튜플 (tuple)\n",
    "- 튜플은 리스트처럼 여러 항목의 집합을 담을 수 있는데 리스트와 달리 튜플의 내용은 '상수'로 취급되어 값을 바꿀 수 없다\n",
    "- 튜플을 만들려면 소괄호( )를 사용하여 만들거나 , 로 구분하여 나열한다."
   ]
  },
  {
   "cell_type": "code",
   "execution_count": 0,
   "metadata": {
    "colab": {},
    "colab_type": "code",
    "id": "FWh2t30OfMqi",
    "outputId": "07768f3c-c5fc-4107-f609-9ce2d3d29036"
   },
   "outputs": [
    {
     "name": "stdout",
     "output_type": "stream",
     "text": [
      "(1, 2, 3, 4, 5, 'hello')\n"
     ]
    }
   ],
   "source": [
    "my_tuple = (1, 2, 3)\n",
    "your_tuple = 4, 5,\"hello\"\n",
    "print(my_tuple + your_tuple)"
   ]
  },
  {
   "cell_type": "code",
   "execution_count": 0,
   "metadata": {
    "colab": {},
    "colab_type": "code",
    "id": "4fKitRN3fMql"
   },
   "outputs": [],
   "source": [
    "a, b, c = 3, 4, 100"
   ]
  },
  {
   "cell_type": "code",
   "execution_count": 0,
   "metadata": {
    "colab": {},
    "colab_type": "code",
    "id": "SnkI1ATifMqo",
    "outputId": "2c52faaa-ab27-4b6b-f64f-21ffa834e7ea"
   },
   "outputs": [
    {
     "name": "stdout",
     "output_type": "stream",
     "text": [
      "3\n",
      "4\n",
      "100\n"
     ]
    }
   ],
   "source": [
    "print(a)\n",
    "print(b)\n",
    "print(c)"
   ]
  },
  {
   "cell_type": "markdown",
   "metadata": {
    "colab_type": "text",
    "id": "yynomsnffMqr"
   },
   "source": [
    "## 사전 (Dictionaries)\n",
    "- 딕셔너리로 키-값 조합 형태의 리스트를 만들 수 있다. \n",
    "- 딕셔너리에서는 항목을 찾을 때 키를 사용한다\n",
    "- 딕셔너너리에서 저장된 순서는 중요시하지 않는다.\n",
    "- 딕셔너리는 중괄호 {  } 로 만든다."
   ]
  },
  {
   "cell_type": "code",
   "execution_count": 0,
   "metadata": {
    "colab": {},
    "colab_type": "code",
    "id": "M9BYH2N3fMqs",
    "outputId": "49be4e1c-dfc0-47e6-8df5-c04ccd187213"
   },
   "outputs": [
    {
     "name": "stdout",
     "output_type": "stream",
     "text": [
      "21\n"
     ]
    }
   ],
   "source": [
    "my_dict = {'grade': 3,'age': 21,'name': \"kim\"  }\n",
    "print(my_dict['age']) "
   ]
  },
  {
   "cell_type": "code",
   "execution_count": 0,
   "metadata": {
    "colab": {},
    "colab_type": "code",
    "id": "knKE289jfMqv",
    "outputId": "f67dbaee-fcff-4724-f600-85ee933b3067",
    "scrolled": true
   },
   "outputs": [
    {
     "name": "stdout",
     "output_type": "stream",
     "text": [
      "dict_keys(['grade', 'age', 'name'])\n",
      "dict_values([3, 21, 'kim'])\n",
      "dict_items([('grade', 3), ('age', 21), ('name', 'kim')])\n"
     ]
    }
   ],
   "source": [
    "print(my_dict.keys())\n",
    "print(my_dict.values())\n",
    "print(my_dict.items()) "
   ]
  },
  {
   "cell_type": "code",
   "execution_count": 0,
   "metadata": {
    "colab": {},
    "colab_type": "code",
    "id": "ShT8ABivfMqz",
    "outputId": "480ab442-8cb2-4f07-a224-631dcdbb5495"
   },
   "outputs": [
    {
     "data": {
      "text/plain": [
       "'lee'"
      ]
     },
     "execution_count": 25,
     "metadata": {
      "tags": []
     },
     "output_type": "execute_result"
    }
   ],
   "source": [
    "my_dict['name'] = 'lee'\n",
    "my_dict['name']"
   ]
  },
  {
   "cell_type": "markdown",
   "metadata": {},
   "source": [
    "##  range"
   ]
  },
  {
   "cell_type": "code",
   "execution_count": 0,
   "metadata": {
    "colab": {},
    "colab_type": "code",
    "id": "oWqpat80fMq7",
    "outputId": "5617803c-c7ec-40a3-a06f-073204c3c7ae"
   },
   "outputs": [
    {
     "name": "stdout",
     "output_type": "stream",
     "text": [
      "10\n",
      "30\n",
      "50\n",
      "70\n",
      "90\n",
      "110\n",
      "130\n",
      "150\n",
      "170\n",
      "190\n"
     ]
    }
   ],
   "source": [
    "x = range(1,20,2)\n",
    "for i in x:\n",
    "    print(i*10)"
   ]
  },
  {
   "cell_type": "code",
   "execution_count": 1,
   "metadata": {
    "colab": {},
    "colab_type": "code",
    "id": "HnyNqFR2fMq-",
    "outputId": "855d39fb-39f3-41b9-bf2f-9ca5f958ce27"
   },
   "outputs": [
    {
     "name": "stdout",
     "output_type": "stream",
     "text": [
      "[0, 10, 20, 30, 40, 50, 60, 70, 80, 90]\n"
     ]
    }
   ],
   "source": [
    "list_2 = [x*10 for x in range(10)] \n",
    "print(list_2) # [0, 10, 20, 30, 40]"
   ]
  },
  {
   "cell_type": "markdown",
   "metadata": {},
   "source": [
    "\":\" 이 사용되는 경우 - if, else, elif, for, def"
   ]
  },
  {
   "cell_type": "markdown",
   "metadata": {},
   "source": [
    "## if"
   ]
  },
  {
   "cell_type": "code",
   "execution_count": 0,
   "metadata": {
    "colab": {},
    "colab_type": "code",
    "id": "VLrsr0ktfMrB",
    "outputId": "a22ddf5d-a7a7-48e5-d45b-db4dc1729a11"
   },
   "outputs": [
    {
     "name": "stdout",
     "output_type": "stream",
     "text": [
      "x > 10\n",
      "---------\n"
     ]
    }
   ],
   "source": [
    "x=17\n",
    "if x > 10:\n",
    "    print(\"x > 10\") \n",
    "    print('---------')\n",
    "elif x > 3:\n",
    "    print(\"10 >= x < 3\") \n",
    "else:\n",
    "    print(\" x <= 3\")\n",
    " "
   ]
  },
  {
   "cell_type": "markdown",
   "metadata": {
    "colab_type": "text",
    "id": "zd5EnJeQfMrE"
   },
   "source": [
    "## for 루프\n",
    "\n",
    "- 동작을 반복할 때 for 루프를 사용한다\n",
    "- for 문장의 끝에는 ':'가 있어야 하며 for 문이 적용되는 블록(block)은 반드시 들여쓰기 (indentation)을 해야 한다. "
   ]
  },
  {
   "cell_type": "code",
   "execution_count": 0,
   "metadata": {
    "colab": {},
    "colab_type": "code",
    "id": "VdFj2eJKfMrF"
   },
   "outputs": [],
   "source": [
    "items = [ 1, 5, 100]"
   ]
  },
  {
   "cell_type": "code",
   "execution_count": 0,
   "metadata": {
    "colab": {},
    "colab_type": "code",
    "id": "JHwpkew6fMrI",
    "outputId": "815fbc22-04b7-4aa4-9552-04729f4df609",
    "scrolled": true
   },
   "outputs": [
    {
     "name": "stdout",
     "output_type": "stream",
     "text": [
      "1\n",
      "125\n",
      "1000000\n"
     ]
    }
   ],
   "source": [
    "for x in items:\n",
    "    print(x**3)"
   ]
  },
  {
   "cell_type": "code",
   "execution_count": 0,
   "metadata": {
    "colab": {},
    "colab_type": "code",
    "id": "uNMXz-7YfMrM",
    "outputId": "7a2f6604-9755-4be6-c46e-768454eb5ad4"
   },
   "outputs": [
    {
     "name": "stdout",
     "output_type": "stream",
     "text": [
      "0\n",
      "1000\n",
      "2000\n",
      "3000\n",
      "4000\n",
      "5000\n",
      "6000\n",
      "7000\n",
      "8000\n",
      "9000\n"
     ]
    }
   ],
   "source": [
    "for i in range(10): \n",
    "    print (i*1000)"
   ]
  },
  {
   "cell_type": "markdown",
   "metadata": {},
   "source": [
    "## def \n",
    "- 함수 사용법"
   ]
  },
  {
   "cell_type": "code",
   "execution_count": 18,
   "metadata": {},
   "outputs": [
    {
     "data": {
      "text/plain": [
       "217"
      ]
     },
     "execution_count": 18,
     "metadata": {},
     "output_type": "execute_result"
    }
   ],
   "source": [
    "def my_func(a,b,c=5): # 인자, argument\n",
    "    return a*100 + b*10 + c\n",
    "\n",
    "my_func(c=7,b=1,a=2)"
   ]
  },
  {
   "cell_type": "markdown",
   "metadata": {
    "colab_type": "text",
    "id": "zkdczJfFigTt"
   },
   "source": [
    "## 그래프\n",
    "- 한글 설정"
   ]
  },
  {
   "cell_type": "code",
   "execution_count": 6,
   "metadata": {},
   "outputs": [],
   "source": [
    "import matplotlib.pyplot as plt\n",
    "import platform, matplotlib\n",
    "from matplotlib import rc\n",
    "\n",
    "# '-' 기호 제대로 보이기\n",
    "matplotlib.rcParams['axes.unicode_minus'] = False\n",
    "\n",
    "# 윈도우\n",
    "if platform.system() == 'Windows':\n",
    "    rc('font', family=\"Malgun Gothic\")\n",
    "# 맥\n",
    "elif platform.system() == 'Darwin':\n",
    "    rc('font', family='AppleGothic')\n",
    "# 리눅스\n",
    "elif platform.system() == 'Linux':\n",
    "    rc('font', family='NanumBarunGothic')"
   ]
  },
  {
   "cell_type": "code",
   "execution_count": 9,
   "metadata": {},
   "outputs": [],
   "source": [
    "# 맥을 사용하는 경우 고화질 출력\n",
    "%config InlineBackend.figure_format = 'retina'"
   ]
  },
  {
   "cell_type": "code",
   "execution_count": 10,
   "metadata": {
    "colab": {
     "base_uri": "https://localhost:8080/",
     "height": 568
    },
    "colab_type": "code",
    "executionInfo": {
     "elapsed": 629,
     "status": "ok",
     "timestamp": 1580206225970,
     "user": {
      "displayName": "김화종",
      "photoUrl": "https://lh3.googleusercontent.com/a-/AAuE7mCOtXjyLykQ_8l9Pq2rL3r5y110ynjRS1eb1EzpcQ=s64",
      "userId": "17353049580175403985"
     },
     "user_tz": -540
    },
    "id": "qwM_-rJafMra",
    "outputId": "cd2bfec4-9452-4836-8b62-f3949219ec18"
   },
   "outputs": [
    {
     "data": {
      "text/plain": [
       "Text(0, 0.5, 'y 축입니다')"
      ]
     },
     "execution_count": 10,
     "metadata": {},
     "output_type": "execute_result"
    },
    {
     "data": {
      "image/png": "[encoded data removed]",
      "text/plain": [
       "<Figure size 432x288 with 1 Axes>"
      ]
     },
     "metadata": {
      "image/png": {
       "height": 261,
       "width": 386
      },
      "needs_background": "light"
     },
     "output_type": "display_data"
    }
   ],
   "source": [
    "import matplotlib.pyplot as plt\n",
    "import numpy as np\n",
    "%matplotlib inline\n",
    "x = range(100)\n",
    "y = np.random.rand(100)\n",
    "plt.scatter(x,y)\n",
    "plt.xlabel('x 축입니다')\n",
    "plt.ylabel('y 축입니다')"
   ]
  }
 ],
 "metadata": {
  "colab": {
   "collapsed_sections": [
    "v_cZd_gQfMqh",
    "yynomsnffMqr",
    "zd5EnJeQfMrE"
   ],
   "name": "g_01_파이선기초.ipynb",
   "provenance": []
  },
  "kernelspec": {
   "display_name": "Python 3",
   "language": "python",
   "name": "python3"
  },
  "language_info": {
   "codemirror_mode": {
    "name": "ipython",
    "version": 3
   },
   "file_extension": ".py",
   "mimetype": "text/x-python",
   "name": "python",
   "nbconvert_exporter": "python",
   "pygments_lexer": "ipython3",
   "version": "3.7.6"
  },
  "toc": {
   "base_numbering": 1,
   "nav_menu": {},
   "number_sections": true,
   "sideBar": true,
   "skip_h1_title": false,
   "title_cell": "Table of Contents",
   "title_sidebar": "Contents",
   "toc_cell": false,
   "toc_position": {},
   "toc_section_display": true,
   "toc_window_display": false
  }
 },
 "nbformat": 4,
 "nbformat_minor": 1
}
