{
 "cells": [
  {
   "cell_type": "markdown",
   "metadata": {
    "id": "vPBEqLR3vhGi"
   },
   "source": [
    "# Molecular Visualization using RDkit & CheMBL DB data preprocessing"
   ]
  },
  {
   "cell_type": "markdown",
   "metadata": {
    "id": "6ibxDG7AaqyP"
   },
   "source": [
    "구글 코랩 기준 라이브러리 설치가 진행됩니다. 실제로 설치하는 방법은 다릅니다.\n",
    "로컬에서 설치 할 시 설치할 라이브러리의 버전을 적어 놓겠습니다.\n",
    "* python==3.6\n",
    "* deepchem==2.3.0\n",
    "* Rdkit==1.16\n",
    "* chembl_webresource_client==0.10.2\n"
   ]
  },
  {
   "cell_type": "code",
   "execution_count": null,
   "metadata": {
    "colab": {
     "base_uri": "https://localhost:8080/",
     "height": 1000
    },
    "id": "iV7s6wwmRGB1",
    "outputId": "055a34d1-6911-4bf7-8704-c6a117e460a6"
   },
   "outputs": [
    {
     "name": "stdout",
     "output_type": "stream",
     "text": [
      "--2020-10-05 23:24:32--  https://repo.continuum.io/miniconda/Miniconda3-latest-Linux-x86_64.sh\n",
      "Resolving repo.continuum.io (repo.continuum.io)... 104.18.201.79, 104.18.200.79, 2606:4700::6812:c94f, ...\n",
      "Connecting to repo.continuum.io (repo.continuum.io)|104.18.201.79|:443... connected.\n",
      "HTTP request sent, awaiting response... 301 Moved Permanently\n",
      "Location: https://repo.anaconda.com/miniconda/Miniconda3-latest-Linux-x86_64.sh [following]\n",
      "--2020-10-05 23:24:32--  https://repo.anaconda.com/miniconda/Miniconda3-latest-Linux-x86_64.sh\n",
      "Resolving repo.anaconda.com (repo.anaconda.com)... 104.16.130.3, 104.16.131.3, 2606:4700::6810:8303, ...\n",
      "Connecting to repo.anaconda.com (repo.anaconda.com)|104.16.130.3|:443... connected.\n",
      "HTTP request sent, awaiting response... 200 OK\n",
      "Length: 93052469 (89M) [application/x-sh]\n",
      "Saving to: ‘Miniconda3-latest-Linux-x86_64.sh’\n",
      "\n",
      "Miniconda3-latest-L 100%[===================>]  88.74M   199MB/s    in 0.4s    \n",
      "\n",
      "2020-10-05 23:24:33 (199 MB/s) - ‘Miniconda3-latest-Linux-x86_64.sh’ saved [93052469/93052469]\n",
      "\n",
      "PREFIX=/usr/local\n",
      "Unpacking payload ...\n",
      "Collecting package metadata (current_repodata.json): - \b\b\\ \b\b| \b\bdone\n",
      "Solving environment: - \b\b\\ \b\bdone\n",
      "\n",
      "## Package Plan ##\n",
      "\n",
      "  environment location: /usr/local\n",
      "\n",
      "  added / updated specs:\n",
      "    - _libgcc_mutex==0.1=main\n",
      "    - ca-certificates==2020.1.1=0\n",
      "    - certifi==2020.4.5.1=py38_0\n",
      "    - cffi==1.14.0=py38he30daa8_1\n",
      "    - chardet==3.0.4=py38_1003\n",
      "    - conda-package-handling==1.6.1=py38h7b6447c_0\n",
      "    - conda==4.8.3=py38_0\n",
      "    - cryptography==2.9.2=py38h1ba5d50_0\n",
      "    - idna==2.9=py_1\n",
      "    - ld_impl_linux-64==2.33.1=h53a641e_7\n",
      "    - libedit==3.1.20181209=hc058e9b_0\n",
      "    - libffi==3.3=he6710b0_1\n",
      "    - libgcc-ng==9.1.0=hdf63c60_0\n",
      "    - libstdcxx-ng==9.1.0=hdf63c60_0\n",
      "    - ncurses==6.2=he6710b0_1\n",
      "    - openssl==1.1.1g=h7b6447c_0\n",
      "    - pip==20.0.2=py38_3\n",
      "    - pycosat==0.6.3=py38h7b6447c_1\n",
      "    - pycparser==2.20=py_0\n",
      "    - pyopenssl==19.1.0=py38_0\n",
      "    - pysocks==1.7.1=py38_0\n",
      "    - python==3.8.3=hcff3b4d_0\n",
      "    - readline==8.0=h7b6447c_0\n",
      "    - requests==2.23.0=py38_0\n",
      "    - ruamel_yaml==0.15.87=py38h7b6447c_0\n",
      "    - setuptools==46.4.0=py38_0\n",
      "    - six==1.14.0=py38_0\n",
      "    - sqlite==3.31.1=h62c20be_1\n",
      "    - tk==8.6.8=hbc83047_0\n",
      "    - tqdm==4.46.0=py_0\n",
      "    - urllib3==1.25.8=py38_0\n",
      "    - wheel==0.34.2=py38_0\n",
      "    - xz==5.2.5=h7b6447c_0\n",
      "    - yaml==0.1.7=had09818_2\n",
      "    - zlib==1.2.11=h7b6447c_3\n",
      "\n",
      "\n",
      "The following NEW packages will be INSTALLED:\n",
      "\n",
      "  _libgcc_mutex      pkgs/main/linux-64::_libgcc_mutex-0.1-main\n",
      "  ca-certificates    pkgs/main/linux-64::ca-certificates-2020.1.1-0\n",
      "  certifi            pkgs/main/linux-64::certifi-2020.4.5.1-py38_0\n",
      "  cffi               pkgs/main/linux-64::cffi-1.14.0-py38he30daa8_1\n",
      "  chardet            pkgs/main/linux-64::chardet-3.0.4-py38_1003\n",
      "  conda              pkgs/main/linux-64::conda-4.8.3-py38_0\n",
      "  conda-package-han~ pkgs/main/linux-64::conda-package-handling-1.6.1-py38h7b6447c_0\n",
      "  cryptography       pkgs/main/linux-64::cryptography-2.9.2-py38h1ba5d50_0\n",
      "  idna               pkgs/main/noarch::idna-2.9-py_1\n",
      "  ld_impl_linux-64   pkgs/main/linux-64::ld_impl_linux-64-2.33.1-h53a641e_7\n",
      "  libedit            pkgs/main/linux-64::libedit-3.1.20181209-hc058e9b_0\n",
      "  libffi             pkgs/main/linux-64::libffi-3.3-he6710b0_1\n",
      "  libgcc-ng          pkgs/main/linux-64::libgcc-ng-9.1.0-hdf63c60_0\n",
      "  libstdcxx-ng       pkgs/main/linux-64::libstdcxx-ng-9.1.0-hdf63c60_0\n",
      "  ncurses            pkgs/main/linux-64::ncurses-6.2-he6710b0_1\n",
      "  openssl            pkgs/main/linux-64::openssl-1.1.1g-h7b6447c_0\n",
      "  pip                pkgs/main/linux-64::pip-20.0.2-py38_3\n",
      "  pycosat            pkgs/main/linux-64::pycosat-0.6.3-py38h7b6447c_1\n",
      "  pycparser          pkgs/main/noarch::pycparser-2.20-py_0\n",
      "  pyopenssl          pkgs/main/linux-64::pyopenssl-19.1.0-py38_0\n",
      "  pysocks            pkgs/main/linux-64::pysocks-1.7.1-py38_0\n",
      "  python             pkgs/main/linux-64::python-3.8.3-hcff3b4d_0\n",
      "  readline           pkgs/main/linux-64::readline-8.0-h7b6447c_0\n",
      "  requests           pkgs/main/linux-64::requests-2.23.0-py38_0\n",
      "  ruamel_yaml        pkgs/main/linux-64::ruamel_yaml-0.15.87-py38h7b6447c_0\n",
      "  setuptools         pkgs/main/linux-64::setuptools-46.4.0-py38_0\n",
      "  six                pkgs/main/linux-64::six-1.14.0-py38_0\n",
      "  sqlite             pkgs/main/linux-64::sqlite-3.31.1-h62c20be_1\n",
      "  tk                 pkgs/main/linux-64::tk-8.6.8-hbc83047_0\n",
      "  tqdm               pkgs/main/noarch::tqdm-4.46.0-py_0\n",
      "  urllib3            pkgs/main/linux-64::urllib3-1.25.8-py38_0\n",
      "  wheel              pkgs/main/linux-64::wheel-0.34.2-py38_0\n",
      "  xz                 pkgs/main/linux-64::xz-5.2.5-h7b6447c_0\n",
      "  yaml               pkgs/main/linux-64::yaml-0.1.7-had09818_2\n",
      "  zlib               pkgs/main/linux-64::zlib-1.2.11-h7b6447c_3\n",
      "\n",
      "\n",
      "Preparing transaction: / \b\b- \b\b\\ \b\bdone\n",
      "Executing transaction: / \b\b- \b\b\\ \b\b| \b\b/ \b\b- \b\b\\ \b\b| \b\b/ \b\b- \b\b\\ \b\b| \b\b/ \b\bdone\n",
      "installation finished.\n",
      "WARNING:\n",
      "    You currently have a PYTHONPATH environment variable set. This may cause\n",
      "    unexpected behavior when running the Python interpreter in Miniconda3.\n",
      "    For best results, please verify that your PYTHONPATH only points to\n",
      "    directories of packages that are compatible with the Python interpreter\n",
      "    in Miniconda3: /usr/local\n",
      "\n",
      "real\t0m25.990s\n",
      "user\t0m13.748s\n",
      "sys\t0m4.570s\n",
      "Collecting package metadata (current_repodata.json): ...working... done\n",
      "Solving environment: ...working... done\n",
      "\n",
      "## Package Plan ##\n",
      "\n",
      "  environment location: /usr/local\n",
      "\n",
      "  added / updated specs:\n",
      "    - python=3.6\n",
      "\n",
      "\n",
      "The following packages will be downloaded:\n",
      "\n",
      "    package                    |            build\n",
      "    ---------------------------|-----------------\n",
      "    brotlipy-0.7.0             |py36h8c4c3a4_1000         346 KB  conda-forge\n",
      "    ca-certificates-2020.6.20  |       hecda079_0         145 KB  conda-forge\n",
      "    certifi-2020.6.20          |   py36h9f0ad1d_0         151 KB  conda-forge\n",
      "    cffi-1.11.5                |           py36_0         406 KB  conda-forge\n",
      "    chardet-3.0.4              |py36h9f0ad1d_1007         187 KB  conda-forge\n",
      "    conda-4.8.5                |   py36h9f0ad1d_1         3.0 MB  conda-forge\n",
      "    conda-package-handling-1.7.0|   py36h8c4c3a4_5         934 KB  conda-forge\n",
      "    cryptography-3.1.1         |   py36h45558ae_0         617 KB  conda-forge\n",
      "    openssl-1.1.1h             |       h516909a_0         2.1 MB  conda-forge\n",
      "    pip-20.2.3                 |             py_0         1.1 MB  conda-forge\n",
      "    pycosat-0.6.3              |py36h8c4c3a4_1004         107 KB  conda-forge\n",
      "    pyopenssl-19.1.0           |             py_1          47 KB  conda-forge\n",
      "    pysocks-1.7.1              |   py36h9f0ad1d_1          27 KB  conda-forge\n",
      "    python-3.6.10              |       h7579374_2        29.7 MB\n",
      "    python_abi-3.6             |          1_cp36m           4 KB  conda-forge\n",
      "    requests-2.24.0            |     pyh9f0ad1d_0          47 KB  conda-forge\n",
      "    ruamel_yaml-0.15.87        |   py36h7b6447c_0         257 KB\n",
      "    setuptools-49.6.0          |   py36h9f0ad1d_1         934 KB  conda-forge\n",
      "    six-1.15.0                 |     pyh9f0ad1d_0          14 KB  conda-forge\n",
      "    urllib3-1.25.10            |             py_0          92 KB  conda-forge\n",
      "    wheel-0.35.1               |     pyh9f0ad1d_0          29 KB  conda-forge\n",
      "    ------------------------------------------------------------\n",
      "                                           Total:        40.2 MB\n",
      "\n",
      "The following NEW packages will be INSTALLED:\n",
      "\n",
      "  brotlipy           conda-forge/linux-64::brotlipy-0.7.0-py36h8c4c3a4_1000\n",
      "  python_abi         conda-forge/linux-64::python_abi-3.6-1_cp36m\n",
      "\n",
      "The following packages will be UPDATED:\n",
      "\n",
      "  ca-certificates     pkgs/main::ca-certificates-2020.1.1-0 --> conda-forge::ca-certificates-2020.6.20-hecda079_0\n",
      "  certifi              pkgs/main::certifi-2020.4.5.1-py38_0 --> conda-forge::certifi-2020.6.20-py36h9f0ad1d_0\n",
      "  chardet                pkgs/main::chardet-3.0.4-py38_1003 --> conda-forge::chardet-3.0.4-py36h9f0ad1d_1007\n",
      "  conda                       pkgs/main::conda-4.8.3-py38_0 --> conda-forge::conda-4.8.5-py36h9f0ad1d_1\n",
      "  conda-package-han~ pkgs/main::conda-package-handling-1.6~ --> conda-forge::conda-package-handling-1.7.0-py36h8c4c3a4_5\n",
      "  cryptography       pkgs/main::cryptography-2.9.2-py38h1b~ --> conda-forge::cryptography-3.1.1-py36h45558ae_0\n",
      "  openssl              pkgs/main::openssl-1.1.1g-h7b6447c_0 --> conda-forge::openssl-1.1.1h-h516909a_0\n",
      "  pip                 pkgs/main/linux-64::pip-20.0.2-py38_3 --> conda-forge/noarch::pip-20.2.3-py_0\n",
      "  pycosat            pkgs/main::pycosat-0.6.3-py38h7b6447c~ --> conda-forge::pycosat-0.6.3-py36h8c4c3a4_1004\n",
      "  pyopenssl          pkgs/main/linux-64::pyopenssl-19.1.0-~ --> conda-forge/noarch::pyopenssl-19.1.0-py_1\n",
      "  pysocks                   pkgs/main::pysocks-1.7.1-py38_0 --> conda-forge::pysocks-1.7.1-py36h9f0ad1d_1\n",
      "  requests           pkgs/main/linux-64::requests-2.23.0-p~ --> conda-forge/noarch::requests-2.24.0-pyh9f0ad1d_0\n",
      "  setuptools            pkgs/main::setuptools-46.4.0-py38_0 --> conda-forge::setuptools-49.6.0-py36h9f0ad1d_1\n",
      "  six                 pkgs/main/linux-64::six-1.14.0-py38_0 --> conda-forge/noarch::six-1.15.0-pyh9f0ad1d_0\n",
      "  urllib3            pkgs/main/linux-64::urllib3-1.25.8-py~ --> conda-forge/noarch::urllib3-1.25.10-py_0\n",
      "  wheel              pkgs/main/linux-64::wheel-0.34.2-py38~ --> conda-forge/noarch::wheel-0.35.1-pyh9f0ad1d_0\n",
      "\n",
      "The following packages will be SUPERSEDED by a higher-priority channel:\n",
      "\n",
      "  cffi                pkgs/main::cffi-1.14.0-py38he30daa8_1 --> conda-forge::cffi-1.11.5-py36_0\n",
      "\n",
      "The following packages will be DOWNGRADED:\n",
      "\n",
      "  python                                   3.8.3-hcff3b4d_0 --> 3.6.10-h7579374_2\n",
      "  ruamel_yaml                        0.15.87-py38h7b6447c_0 --> 0.15.87-py36h7b6447c_0\n",
      "\n",
      "\n",
      "Preparing transaction: ...working... done\n",
      "Verifying transaction: ...working... done\n",
      "Executing transaction: ...working... done\n",
      "\n",
      "real\t0m16.567s\n",
      "user\t0m13.364s\n",
      "sys\t0m2.180s\n",
      "Collecting package metadata (current_repodata.json): ...working... done\n",
      "Solving environment: ...working... done\n",
      "\n",
      "## Package Plan ##\n",
      "\n",
      "  environment location: /usr/local\n",
      "\n",
      "  added / updated specs:\n",
      "    - rdkit\n",
      "\n",
      "\n",
      "The following packages will be downloaded:\n",
      "\n",
      "    package                    |            build\n",
      "    ---------------------------|-----------------\n",
      "    boost-1.74.0               |   py36h6957fcd_0         316 KB  conda-forge\n",
      "    boost-cpp-1.74.0           |       h9359b55_0        16.4 MB  conda-forge\n",
      "    bzip2-1.0.8                |       h516909a_3         398 KB  conda-forge\n",
      "    cairo-1.16.0               |    h3fc0475_1005         1.5 MB  conda-forge\n",
      "    fontconfig-2.13.1          |    h1056068_1002         365 KB  conda-forge\n",
      "    freetype-2.10.2            |       he06d7ca_0         905 KB  conda-forge\n",
      "    glib-2.65.0                |       h3eb4bd4_0         2.9 MB\n",
      "    icu-67.1                   |       he1b5a44_0        12.9 MB  conda-forge\n",
      "    jpeg-9d                    |       h516909a_0         266 KB  conda-forge\n",
      "    lcms2-2.11                 |       hbd6801e_0         431 KB  conda-forge\n",
      "    libblas-3.8.0              |      17_openblas          11 KB  conda-forge\n",
      "    libcblas-3.8.0             |      17_openblas          11 KB  conda-forge\n",
      "    libgfortran-ng-7.5.0       |      hae1eefd_17          22 KB  conda-forge\n",
      "    libgfortran4-7.5.0         |      hae1eefd_17         1.3 MB  conda-forge\n",
      "    libiconv-1.16              |       h516909a_0         1.4 MB  conda-forge\n",
      "    liblapack-3.8.0            |      17_openblas          11 KB  conda-forge\n",
      "    libopenblas-0.3.10         |pthreads_hb3c22a3_4         7.8 MB  conda-forge\n",
      "    libpng-1.6.37              |       hed695b0_2         359 KB  conda-forge\n",
      "    libtiff-4.1.0              |       hc7e4089_6         668 KB  conda-forge\n",
      "    libuuid-2.32.1             |    h14c3975_1000          26 KB  conda-forge\n",
      "    libwebp-base-1.1.0         |       h516909a_3         845 KB  conda-forge\n",
      "    libxcb-1.13                |    h14c3975_1002         396 KB  conda-forge\n",
      "    libxml2-2.9.10             |       h68273f3_2         1.3 MB  conda-forge\n",
      "    lz4-c-1.9.2                |       he1b5a44_3         203 KB  conda-forge\n",
      "    numpy-1.19.1               |   py36h3849536_2         5.2 MB  conda-forge\n",
      "    olefile-0.46               |             py_0          31 KB  conda-forge\n",
      "    pandas-1.1.2               |   py36h831f99a_0        10.5 MB  conda-forge\n",
      "    pcre-8.44                  |       he1b5a44_0         261 KB  conda-forge\n",
      "    pillow-7.2.0               |   py36h8328e55_1         670 KB  conda-forge\n",
      "    pixman-0.38.0              |    h516909a_1003         594 KB  conda-forge\n",
      "    pthread-stubs-0.4          |    h14c3975_1001           5 KB  conda-forge\n",
      "    pycairo-1.19.1             |   py36h4779a57_3          77 KB  conda-forge\n",
      "    python-dateutil-2.8.1      |             py_0         220 KB  conda-forge\n",
      "    pytz-2020.1                |     pyh9f0ad1d_0         227 KB  conda-forge\n",
      "    rdkit-2020.03.6            |   py36hf6a1616_0        24.6 MB  conda-forge\n",
      "    tk-8.6.10                  |       hed695b0_0         3.2 MB  conda-forge\n",
      "    xorg-kbproto-1.0.7         |    h14c3975_1002          26 KB  conda-forge\n",
      "    xorg-libice-1.0.10         |       h516909a_0          57 KB  conda-forge\n",
      "    xorg-libsm-1.2.3           |    h84519dc_1000          25 KB  conda-forge\n",
      "    xorg-libx11-1.6.12         |       h516909a_0         917 KB  conda-forge\n",
      "    xorg-libxau-1.0.9          |       h14c3975_0          13 KB  conda-forge\n",
      "    xorg-libxdmcp-1.1.3        |       h516909a_0          18 KB  conda-forge\n",
      "    xorg-libxext-1.3.4         |       h516909a_0          51 KB  conda-forge\n",
      "    xorg-libxrender-0.9.10     |    h516909a_1002          31 KB  conda-forge\n",
      "    xorg-renderproto-0.11.1    |    h14c3975_1002           8 KB  conda-forge\n",
      "    xorg-xextproto-7.3.0       |    h14c3975_1002          27 KB  conda-forge\n",
      "    xorg-xproto-7.0.31         |    h14c3975_1007          72 KB  conda-forge\n",
      "    zstd-1.4.5                 |       h6597ccf_2         712 KB  conda-forge\n",
      "    ------------------------------------------------------------\n",
      "                                           Total:        97.9 MB\n",
      "\n",
      "The following NEW packages will be INSTALLED:\n",
      "\n",
      "  boost              conda-forge/linux-64::boost-1.74.0-py36h6957fcd_0\n",
      "  boost-cpp          conda-forge/linux-64::boost-cpp-1.74.0-h9359b55_0\n",
      "  bzip2              conda-forge/linux-64::bzip2-1.0.8-h516909a_3\n",
      "  cairo              conda-forge/linux-64::cairo-1.16.0-h3fc0475_1005\n",
      "  fontconfig         conda-forge/linux-64::fontconfig-2.13.1-h1056068_1002\n",
      "  freetype           conda-forge/linux-64::freetype-2.10.2-he06d7ca_0\n",
      "  glib               pkgs/main/linux-64::glib-2.65.0-h3eb4bd4_0\n",
      "  icu                conda-forge/linux-64::icu-67.1-he1b5a44_0\n",
      "  jpeg               conda-forge/linux-64::jpeg-9d-h516909a_0\n",
      "  lcms2              conda-forge/linux-64::lcms2-2.11-hbd6801e_0\n",
      "  libblas            conda-forge/linux-64::libblas-3.8.0-17_openblas\n",
      "  libcblas           conda-forge/linux-64::libcblas-3.8.0-17_openblas\n",
      "  libgfortran-ng     conda-forge/linux-64::libgfortran-ng-7.5.0-hae1eefd_17\n",
      "  libgfortran4       conda-forge/linux-64::libgfortran4-7.5.0-hae1eefd_17\n",
      "  libiconv           conda-forge/linux-64::libiconv-1.16-h516909a_0\n",
      "  liblapack          conda-forge/linux-64::liblapack-3.8.0-17_openblas\n",
      "  libopenblas        conda-forge/linux-64::libopenblas-0.3.10-pthreads_hb3c22a3_4\n",
      "  libpng             conda-forge/linux-64::libpng-1.6.37-hed695b0_2\n",
      "  libtiff            conda-forge/linux-64::libtiff-4.1.0-hc7e4089_6\n",
      "  libuuid            conda-forge/linux-64::libuuid-2.32.1-h14c3975_1000\n",
      "  libwebp-base       conda-forge/linux-64::libwebp-base-1.1.0-h516909a_3\n",
      "  libxcb             conda-forge/linux-64::libxcb-1.13-h14c3975_1002\n",
      "  libxml2            conda-forge/linux-64::libxml2-2.9.10-h68273f3_2\n",
      "  lz4-c              conda-forge/linux-64::lz4-c-1.9.2-he1b5a44_3\n",
      "  numpy              conda-forge/linux-64::numpy-1.19.1-py36h3849536_2\n",
      "  olefile            conda-forge/noarch::olefile-0.46-py_0\n",
      "  pandas             conda-forge/linux-64::pandas-1.1.2-py36h831f99a_0\n",
      "  pcre               conda-forge/linux-64::pcre-8.44-he1b5a44_0\n",
      "  pillow             conda-forge/linux-64::pillow-7.2.0-py36h8328e55_1\n",
      "  pixman             conda-forge/linux-64::pixman-0.38.0-h516909a_1003\n",
      "  pthread-stubs      conda-forge/linux-64::pthread-stubs-0.4-h14c3975_1001\n",
      "  pycairo            conda-forge/linux-64::pycairo-1.19.1-py36h4779a57_3\n",
      "  python-dateutil    conda-forge/noarch::python-dateutil-2.8.1-py_0\n",
      "  pytz               conda-forge/noarch::pytz-2020.1-pyh9f0ad1d_0\n",
      "  rdkit              conda-forge/linux-64::rdkit-2020.03.6-py36hf6a1616_0\n",
      "  xorg-kbproto       conda-forge/linux-64::xorg-kbproto-1.0.7-h14c3975_1002\n",
      "  xorg-libice        conda-forge/linux-64::xorg-libice-1.0.10-h516909a_0\n",
      "  xorg-libsm         conda-forge/linux-64::xorg-libsm-1.2.3-h84519dc_1000\n",
      "  xorg-libx11        conda-forge/linux-64::xorg-libx11-1.6.12-h516909a_0\n",
      "  xorg-libxau        conda-forge/linux-64::xorg-libxau-1.0.9-h14c3975_0\n",
      "  xorg-libxdmcp      conda-forge/linux-64::xorg-libxdmcp-1.1.3-h516909a_0\n",
      "  xorg-libxext       conda-forge/linux-64::xorg-libxext-1.3.4-h516909a_0\n",
      "  xorg-libxrender    conda-forge/linux-64::xorg-libxrender-0.9.10-h516909a_1002\n",
      "  xorg-renderproto   conda-forge/linux-64::xorg-renderproto-0.11.1-h14c3975_1002\n",
      "  xorg-xextproto     conda-forge/linux-64::xorg-xextproto-7.3.0-h14c3975_1002\n",
      "  xorg-xproto        conda-forge/linux-64::xorg-xproto-7.0.31-h14c3975_1007\n",
      "  zstd               conda-forge/linux-64::zstd-1.4.5-h6597ccf_2\n",
      "\n",
      "The following packages will be UPDATED:\n",
      "\n",
      "  tk                         pkgs/main::tk-8.6.8-hbc83047_0 --> conda-forge::tk-8.6.10-hed695b0_0\n",
      "\n",
      "\n",
      "Preparing transaction: ...working... done\n",
      "Verifying transaction: ...working... done\n",
      "Executing transaction: ...working... done\n",
      "\n",
      "real\t0m42.236s\n",
      "user\t0m36.293s\n",
      "sys\t0m3.861s\n"
     ]
    }
   ],
   "source": [
    "# RDkit 설치, 2~3분 소요 예상\n",
    "!wget -c https://repo.continuum.io/miniconda/Miniconda3-latest-Linux-x86_64.sh\n",
    "!chmod +x Miniconda3-latest-Linux-x86_64.sh\n",
    "!time bash ./Miniconda3-latest-Linux-x86_64.sh -b -f -p /usr/local\n",
    "!time conda install -q -y -c conda-forge python=3.6\n",
    "!time conda install -q -y -c conda-forge rdkit"
   ]
  },
  {
   "cell_type": "code",
   "execution_count": null,
   "metadata": {
    "colab": {
     "base_uri": "https://localhost:8080/",
     "height": 411
    },
    "id": "Tbvmh8mKTyu6",
    "outputId": "b20dba93-b8fd-4b0b-e8b9-028f3aac6fa4"
   },
   "outputs": [
    {
     "name": "stdout",
     "output_type": "stream",
     "text": [
      "Collecting chembl_webresource_client\n",
      "  Downloading chembl-webresource-client-0.10.2.tar.gz (51 kB)\n",
      "\u001b[?25l\r",
      "\u001b[K     |██████▍                         | 10 kB 28.7 MB/s eta 0:00:01\r",
      "\u001b[K     |████████████▊                   | 20 kB 3.1 MB/s eta 0:00:01\r",
      "\u001b[K     |███████████████████             | 30 kB 4.0 MB/s eta 0:00:01\r",
      "\u001b[K     |█████████████████████████▍      | 40 kB 4.4 MB/s eta 0:00:01\r",
      "\u001b[K     |███████████████████████████████▊| 51 kB 3.6 MB/s eta 0:00:01\r",
      "\u001b[K     |████████████████████████████████| 51 kB 390 kB/s \n",
      "\u001b[?25hRequirement already satisfied: urllib3 in /usr/local/lib/python3.6/site-packages (from chembl_webresource_client) (1.25.10)\n",
      "Requirement already satisfied: requests>=2.18.4 in /usr/local/lib/python3.6/site-packages (from chembl_webresource_client) (2.24.0)\n",
      "Collecting requests-cache>=0.4.7\n",
      "  Downloading requests_cache-0.5.2-py2.py3-none-any.whl (22 kB)\n",
      "Collecting easydict\n",
      "  Downloading easydict-1.9.tar.gz (6.4 kB)\n",
      "Requirement already satisfied: certifi>=2017.4.17 in /usr/local/lib/python3.6/site-packages (from requests>=2.18.4->chembl_webresource_client) (2020.6.20)\n",
      "Requirement already satisfied: chardet<4,>=3.0.2 in /usr/local/lib/python3.6/site-packages (from requests>=2.18.4->chembl_webresource_client) (3.0.4)\n",
      "Requirement already satisfied: idna<3,>=2.5 in /usr/local/lib/python3.6/site-packages (from requests>=2.18.4->chembl_webresource_client) (2.9)\n",
      "Building wheels for collected packages: chembl-webresource-client, easydict\n",
      "  Building wheel for chembl-webresource-client (setup.py) ... \u001b[?25l\u001b[?25hdone\n",
      "  Created wheel for chembl-webresource-client: filename=chembl_webresource_client-0.10.2-py3-none-any.whl size=55661 sha256=3ae21345fc4c59e0a2e3bb94b6ebd9529340b85d18a7a3b058826ce5120140a9\n",
      "  Stored in directory: /root/.cache/pip/wheels/21/8c/3d/62f69d35e4b72cf761eff44234bbe2dcef1c615d4032dee84e\n",
      "  Building wheel for easydict (setup.py) ... \u001b[?25l\u001b[?25hdone\n",
      "  Created wheel for easydict: filename=easydict-1.9-py3-none-any.whl size=6350 sha256=29b043037070843472acf50fc8e88a5e33b25a210434bf643515abb3121637d2\n",
      "  Stored in directory: /root/.cache/pip/wheels/5d/79/e4/4e55effe206295359b37e0f9db3e68a1197ba396682807dadb\n",
      "Successfully built chembl-webresource-client easydict\n",
      "Installing collected packages: requests-cache, easydict, chembl-webresource-client\n",
      "Successfully installed chembl-webresource-client-0.10.2 easydict-1.9 requests-cache-0.5.2\n"
     ]
    }
   ],
   "source": [
    "#Chembl DB에서 데이터를 가져올 수 있는 라이브러리 설치\n",
    "!pip install chembl_webresource_client"
   ]
  },
  {
   "cell_type": "code",
   "execution_count": null,
   "metadata": {
    "id": "AQ_GGFmARO3x"
   },
   "outputs": [],
   "source": [
    "import sys\n",
    "sys.path.append('/usr/local/lib/python3.6/site-packages/')\n",
    "#필요한 라이브러리 import 과정 \n",
    "from rdkit import Chem\n",
    "#rdkit으로 얻은 mol object를 시각화하기위한 라이브러리와 노트북에 시각화하는 메소드가 담긴 라이브러리 \n",
    "from rdkit.Chem import Draw\n",
    "from rdkit.Chem.Draw import IPythonConsole\n",
    "#Mol object에 기반하여 표현자를 만들어 주는 메소드가 담긴 라이브러리\n",
    "from rdkit.Chem import Descriptors\n",
    "#이하 데이터로드 및 여러가지 메소드가 담긴 라이브러리 \n",
    "from rdkit.Chem import AllChem\n",
    "from rdkit import DataStructs\n",
    "import numpy as np"
   ]
  },
  {
   "cell_type": "code",
   "execution_count": null,
   "metadata": {
    "colab": {
     "base_uri": "https://localhost:8080/",
     "height": 167
    },
    "id": "Bm222jx9RQTM",
    "outputId": "c5626677-8d83-4d06-de21-e7c805b11963"
   },
   "outputs": [
    {
     "data": {
      "image/png": "[encoded data removed]",
      "text/plain": [
       "<rdkit.Chem.rdchem.Mol at 0x7f2300aa7620>"
      ]
     },
     "execution_count": 4,
     "metadata": {
      "tags": []
     },
     "output_type": "execute_result"
    }
   ],
   "source": [
    "mol = Chem.MolFromSmiles('CCCC')\n",
    "mol"
   ]
  },
  {
   "cell_type": "markdown",
   "metadata": {
    "id": "1ZxsVUX3SQJb"
   },
   "source": [
    "http://www.cheminfo.org/flavor/malaria/Utilities/SMILES_generator___checker/index.html"
   ]
  },
  {
   "cell_type": "code",
   "execution_count": null,
   "metadata": {
    "colab": {
     "base_uri": "https://localhost:8080/",
     "height": 167
    },
    "id": "w-Z6ACf4R7RF",
    "outputId": "fb1e7d9e-71ce-4783-ffe4-baa36cae9d90"
   },
   "outputs": [
    {
     "data": {
      "image/png": "[encoded data removed]",
      "text/plain": [
       "<rdkit.Chem.rdchem.Mol at 0x7f2300aa7990>"
      ]
     },
     "execution_count": 5,
     "metadata": {
      "tags": []
     },
     "output_type": "execute_result"
    }
   ],
   "source": [
    "mol = Chem.MolFromSmiles(\"OC[C@H]1OC(O)[C@H](O)[C@@H](O)[C@@H]1O\")\n",
    "mol"
   ]
  },
  {
   "cell_type": "markdown",
   "metadata": {
    "id": "1CSXif9ljgtM"
   },
   "source": [
    "<https://www.rdkit.org/docs/source/rdkit.Chem.Descriptors.html>"
   ]
  },
  {
   "cell_type": "code",
   "execution_count": null,
   "metadata": {
    "colab": {
     "base_uri": "https://localhost:8080/",
     "height": 34
    },
    "id": "HRmUareBjjSb",
    "outputId": "cd8cdda8-b18c-48da-8a06-3b8309de0552"
   },
   "outputs": [
    {
     "data": {
      "text/plain": [
       "180.156"
      ]
     },
     "execution_count": 6,
     "metadata": {
      "tags": []
     },
     "output_type": "execute_result"
    }
   ],
   "source": [
    "from rdkit.Chem import Descriptors\n",
    "mw = Descriptors.MolWt(mol)\n",
    "mw"
   ]
  },
  {
   "cell_type": "markdown",
   "metadata": {
    "id": "tbMJkfd_jmTS"
   },
   "source": [
    "ex) 포도당(C6H12O6)=12.01x6+1.01x12+16.00x6=180.16"
   ]
  },
  {
   "cell_type": "markdown",
   "metadata": {
    "id": "QomZqcBCa20G"
   },
   "source": [
    "## 분자량 출력"
   ]
  },
  {
   "cell_type": "code",
   "execution_count": null,
   "metadata": {
    "colab": {
     "base_uri": "https://localhost:8080/",
     "height": 34
    },
    "id": "HY1Wlyb_SiH0",
    "outputId": "acafa25c-8366-46f6-e4f4-5f0e0691e997"
   },
   "outputs": [
    {
     "data": {
      "text/plain": [
       "180.156"
      ]
     },
     "execution_count": 7,
     "metadata": {
      "tags": []
     },
     "output_type": "execute_result"
    }
   ],
   "source": [
    "mw = Descriptors.MolWt(mol)\n",
    "mw"
   ]
  },
  {
   "cell_type": "markdown",
   "metadata": {
    "id": "Vaj2vVw5bRfu"
   },
   "source": [
    "![캡처.PNG](data:image/png;base64,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)"
   ]
  },
  {
   "cell_type": "markdown",
   "metadata": {
    "id": "yqiQRvrHkVDg"
   },
   "source": [
    "## 하위구조 매칭(Substructure Match)"
   ]
  },
  {
   "cell_type": "markdown",
   "metadata": {
    "id": "ooI9u9lDa8q8"
   },
   "source": [
    "몇가지 분자에 대하여 SMILES를 얻고 부분 패턴을 찾는 방법을 알아봅시다."
   ]
  },
  {
   "cell_type": "markdown",
   "metadata": {
    "id": "0MiZp8CRTCAS"
   },
   "source": [
    "Glycine WIKI : https://en.wikipedia.org/wiki/Glycine#:~:text=Glycine%20\n",
    "\n",
    "Glycine SMILES : 'C(C(=O)O)N'\n",
    "\n",
    "Phenylalanine SMILES : 'N[C@@H](CC1=CC=CC=C1)C(O)=O'\n",
    "\n",
    "Histidine SMILES : 'O=C([C@H](CC1=CNC=N1)N)O'\n",
    "\n",
    "Cysteine SMILES: 'C([C@@H](C(=O)O)N)S'"
   ]
  },
  {
   "cell_type": "code",
   "execution_count": null,
   "metadata": {
    "id": "VS8sMKCuSphL"
   },
   "outputs": [],
   "source": [
    "smiles_list = ['C(C(=O)O)N', 'N[C@@H](CC1=CC=CC=C1)C(O)=O', 'O=C([C@H](CC1=CNC=N1)N)O', 'C([C@@H](C(=O)O)N)S']"
   ]
  },
  {
   "cell_type": "code",
   "execution_count": null,
   "metadata": {
    "colab": {
     "base_uri": "https://localhost:8080/",
     "height": 417
    },
    "id": "D3q6jupMUB8c",
    "outputId": "575f98df-3917-43bc-f1aa-faaf89f32243"
   },
   "outputs": [
    {
     "data": {
      "image/png": "[encoded data removed]",
      "text/plain": [
       "<PIL.PngImagePlugin.PngImageFile image mode=RGB size=400x400 at 0x7F2300AB51D0>"
      ]
     },
     "execution_count": 9,
     "metadata": {
      "tags": []
     },
     "output_type": "execute_result"
    }
   ],
   "source": [
    "mol_list = []\n",
    "for smiles in smiles_list:\n",
    "  mol = Chem.MolFromSmiles(smiles)\n",
    "  mol_list.append(mol)\n",
    "img  = Draw.MolsToGridImage(mol_list, molsPerRow=2)\n",
    "img"
   ]
  },
  {
   "cell_type": "code",
   "execution_count": null,
   "metadata": {
    "colab": {
     "base_uri": "https://localhost:8080/",
     "height": 167
    },
    "id": "Hd955VZqYBFi",
    "outputId": "8f0d1f15-2ce7-43c4-ea4b-e93e7cc6da49"
   },
   "outputs": [
    {
     "data": {
      "image/png": "[encoded data removed]",
      "text/plain": [
       "<rdkit.Chem.rdchem.Mol at 0x7f23009b3350>"
      ]
     },
     "execution_count": 10,
     "metadata": {
      "tags": []
     },
     "output_type": "execute_result"
    }
   ],
   "source": [
    "#찾고자하는 하위 구조\n",
    "Chem.MolFromSmiles('CC(N)C')"
   ]
  },
  {
   "cell_type": "code",
   "execution_count": null,
   "metadata": {
    "colab": {
     "base_uri": "https://localhost:8080/",
     "height": 85
    },
    "id": "Xn1lDcitUVxr",
    "outputId": "1073b1f0-4ebb-47a8-c4b3-cb3aff97cee5"
   },
   "outputs": [
    {
     "name": "stdout",
     "output_type": "stream",
     "text": [
      "False\n",
      "False\n",
      "False\n",
      "True\n"
     ]
    }
   ],
   "source": [
    "pattern = Chem.MolFromSmiles('S')\n",
    "#pattern = Chem.MolFromSmiles('C(=O)O')\n",
    "#pattern = Chem.MolFromSmiles('CC(N)C')\n",
    "for mol in mol_list:\n",
    "  print(mol.HasSubstructMatch(pattern))"
   ]
  },
  {
   "cell_type": "code",
   "execution_count": null,
   "metadata": {
    "colab": {
     "base_uri": "https://localhost:8080/",
     "height": 184
    },
    "id": "aQCN0h5CSerA",
    "outputId": "b5337bcc-764c-47e9-ac0d-3bd5261bff0a"
   },
   "outputs": [
    {
     "name": "stdout",
     "output_type": "stream",
     "text": [
      "((3, 4, 5), (8, 9, 7))\n"
     ]
    },
    {
     "data": {
      "image/png": "[encoded data removed]",
      "text/plain": [
       "<rdkit.Chem.rdchem.Mol at 0x7f23009b36c0>"
      ]
     },
     "execution_count": 12,
     "metadata": {
      "tags": []
     },
     "output_type": "execute_result"
    }
   ],
   "source": [
    "mol= Chem.MolFromSmiles('c1cc(C(=O)O)c(OC(=O)C)cc1')\n",
    "pattern = Chem.MolFromSmarts('C(=O)O')\n",
    "print(mol.GetSubstructMatches(pattern))\n",
    "mol"
   ]
  },
  {
   "cell_type": "markdown",
   "metadata": {
    "id": "hsVoSNpoYGcC"
   },
   "source": [
    "## 고리(Ring)찾기\n",
    "SMARTS : https://www.daylight.com/dayhtml/doc/theory/theory.smarts.html"
   ]
  },
  {
   "cell_type": "code",
   "execution_count": null,
   "metadata": {
    "colab": {
     "base_uri": "https://localhost:8080/",
     "height": 85
    },
    "id": "Dj5H_vWbVGMO",
    "outputId": "947a810a-4565-4d06-9121-a888391a36e5"
   },
   "outputs": [
    {
     "name": "stdout",
     "output_type": "stream",
     "text": [
      "False\n",
      "True\n",
      "False\n",
      "False\n"
     ]
    }
   ],
   "source": [
    " pattern = Chem.MolFromSmarts('[r6]')\n",
    " for mol in mol_list:\n",
    "  print(mol.HasSubstructMatch(pattern))"
   ]
  },
  {
   "cell_type": "code",
   "execution_count": null,
   "metadata": {
    "colab": {
     "base_uri": "https://localhost:8080/",
     "height": 167
    },
    "id": "KMm-AafJYPtR",
    "outputId": "938efc24-db32-44d0-e7b2-209e78e2f6a8"
   },
   "outputs": [
    {
     "data": {
      "image/png": "[encoded data removed]",
      "text/plain": [
       "<rdkit.Chem.rdchem.Mol at 0x7f2300aaf210>"
      ]
     },
     "execution_count": 14,
     "metadata": {
      "tags": []
     },
     "output_type": "execute_result"
    }
   ],
   "source": [
    "glycine = mol_list[0]\n",
    "glycine"
   ]
  },
  {
   "cell_type": "code",
   "execution_count": null,
   "metadata": {
    "colab": {
     "base_uri": "https://localhost:8080/",
     "height": 167
    },
    "id": "VUoTR-6TUKUG",
    "outputId": "9e1141bd-e8be-4bae-c379-6a5d66a2dc66"
   },
   "outputs": [
    {
     "data": {
      "image/png": "[encoded data removed]",
      "text/plain": [
       "<rdkit.Chem.rdchem.Mol at 0x7f23009b3a30>"
      ]
     },
     "execution_count": 15,
     "metadata": {
      "tags": []
     },
     "output_type": "execute_result"
    }
   ],
   "source": [
    "mol = Chem.MolFromSmiles('c1cccc2c1CCCC2')\n",
    "mol.GetNumAtoms()\n",
    "mol\n"
   ]
  },
  {
   "cell_type": "code",
   "execution_count": null,
   "metadata": {
    "colab": {
     "base_uri": "https://localhost:8080/",
     "height": 34
    },
    "id": "BZx6eV1VftMI",
    "outputId": "58baeda6-ddd2-4b34-fcba-3a962a70514e"
   },
   "outputs": [
    {
     "name": "stdout",
     "output_type": "stream",
     "text": [
      "True\n"
     ]
    }
   ],
   "source": [
    "#pattern = Chem.MolFromSmarts('[r5]')\n",
    "pattern = Chem.MolFromSmarts('[r6]')\n",
    "print(mol.HasSubstructMatch(pattern))"
   ]
  },
  {
   "cell_type": "code",
   "execution_count": null,
   "metadata": {
    "id": "YgAEJ1qxlyZf"
   },
   "outputs": [],
   "source": [
    "def mol_with_atom_index(mol):\n",
    "    for atom in mol.GetAtoms():\n",
    "        atom.SetAtomMapNum(atom.GetIdx())\n",
    "    return mol"
   ]
  },
  {
   "cell_type": "code",
   "execution_count": null,
   "metadata": {
    "colab": {
     "base_uri": "https://localhost:8080/",
     "height": 167
    },
    "id": "WR7HgdMhl0TM",
    "outputId": "f23dd80b-3f8b-4e7a-fa04-7be2ee616680"
   },
   "outputs": [
    {
     "data": {
      "image/png": "[encoded data removed]",
      "text/plain": [
       "<rdkit.Chem.rdchem.Mol at 0x7f23009b3a30>"
      ]
     },
     "execution_count": 18,
     "metadata": {
      "tags": []
     },
     "output_type": "execute_result"
    }
   ],
   "source": [
    "mol_with_atom_index(mol)"
   ]
  },
  {
   "cell_type": "code",
   "execution_count": null,
   "metadata": {
    "colab": {
     "base_uri": "https://localhost:8080/",
     "height": 51
    },
    "id": "HmpN8rvlUTSD",
    "outputId": "89d1c1fa-e535-47ef-c76d-491f155a22e4"
   },
   "outputs": [
    {
     "name": "stdout",
     "output_type": "stream",
     "text": [
      "((0, 5, 4, 3, 2, 1), (6, 7, 8, 9, 4, 5))\n",
      "2\n"
     ]
    }
   ],
   "source": [
    "ri = mol.GetRingInfo()\n",
    "print(ri.AtomRings())\n",
    "print(ri.NumRings())"
   ]
  },
  {
   "cell_type": "code",
   "execution_count": null,
   "metadata": {
    "colab": {
     "base_uri": "https://localhost:8080/",
     "height": 34
    },
    "id": "6W_LlGF4UdSP",
    "outputId": "f90e8cfa-ccd9-41f9-ff59-3e696edd3bf1"
   },
   "outputs": [
    {
     "name": "stdout",
     "output_type": "stream",
     "text": [
      "((9, 4, 3, 2, 1, 0), (6, 7, 8, 10, 4, 5))\n"
     ]
    }
   ],
   "source": [
    "print(ri.BondRings())"
   ]
  },
  {
   "cell_type": "code",
   "execution_count": null,
   "metadata": {
    "id": "lwghyz_7UnjC"
   },
   "outputs": [],
   "source": [
    "def isRingAromatic(mol, bondRing):\n",
    "  for i in bondRing:\n",
    "    if not mol.GetBondWithIdx(i).GetIsAromatic():\n",
    "      return False\n",
    "    return True"
   ]
  },
  {
   "cell_type": "code",
   "execution_count": null,
   "metadata": {
    "colab": {
     "base_uri": "https://localhost:8080/",
     "height": 34
    },
    "id": "_FgdR3uRU8O4",
    "outputId": "c0db6013-0ade-4667-88b0-145bb0340041"
   },
   "outputs": [
    {
     "name": "stdout",
     "output_type": "stream",
     "text": [
      "True\n"
     ]
    }
   ],
   "source": [
    "print(isRingAromatic(mol, ri.BondRings()[0]))"
   ]
  },
  {
   "cell_type": "code",
   "execution_count": null,
   "metadata": {
    "colab": {
     "base_uri": "https://localhost:8080/",
     "height": 34
    },
    "id": "sQ3VqrQQVCKL",
    "outputId": "b6215c21-bba5-4cd6-d10a-63244891534f"
   },
   "outputs": [
    {
     "name": "stdout",
     "output_type": "stream",
     "text": [
      "False\n"
     ]
    }
   ],
   "source": [
    "print(isRingAromatic(mol, ri.BondRings()[1]))"
   ]
  },
  {
   "cell_type": "markdown",
   "metadata": {
    "id": "f0GgoFUaT6mw"
   },
   "source": [
    "##Without Implicit Hydrogens"
   ]
  },
  {
   "cell_type": "code",
   "execution_count": null,
   "metadata": {
    "colab": {
     "base_uri": "https://localhost:8080/",
     "height": 167
    },
    "id": "8gW9BOHfl7BL",
    "outputId": "5a68d289-a40a-4aa9-c52f-928c333fc2d8"
   },
   "outputs": [
    {
     "data": {
      "image/png": "[encoded data removed]",
      "text/plain": [
       "<rdkit.Chem.rdchem.Mol at 0x7f2300aaf210>"
      ]
     },
     "execution_count": 24,
     "metadata": {
      "tags": []
     },
     "output_type": "execute_result"
    }
   ],
   "source": [
    "glycine"
   ]
  },
  {
   "cell_type": "code",
   "execution_count": null,
   "metadata": {
    "colab": {
     "base_uri": "https://localhost:8080/",
     "height": 167
    },
    "id": "VLVO5DBQToHb",
    "outputId": "98b40196-4028-493a-b3c8-517cdb57b489"
   },
   "outputs": [
    {
     "data": {
      "image/png": "[encoded data removed]",
      "text/plain": [
       "<rdkit.Chem.rdchem.Mol at 0x7f2300aaf210>"
      ]
     },
     "execution_count": 25,
     "metadata": {
      "tags": []
     },
     "output_type": "execute_result"
    }
   ],
   "source": [
    "for atom in glycine.GetAtoms():\n",
    "  atom.SetProp(\"atomLabel\", atom.GetSymbol())\n",
    "glycine"
   ]
  },
  {
   "cell_type": "markdown",
   "metadata": {
    "id": "kHEuvxanmpbj"
   },
   "source": [
    "## RDkit을 사용한 FingerPrint생성 방법"
   ]
  },
  {
   "cell_type": "code",
   "execution_count": null,
   "metadata": {
    "colab": {
     "base_uri": "https://localhost:8080/",
     "height": 34
    },
    "id": "W10VtY-sYldO",
    "outputId": "75ae266d-2c47-445d-fec8-a243f96571c9"
   },
   "outputs": [
    {
     "data": {
      "text/plain": [
       "(array([ 27,  80, 147, 389, 650, 713, 807, 893, 966, 981]),)"
      ]
     },
     "execution_count": 26,
     "metadata": {
      "tags": []
     },
     "output_type": "execute_result"
    }
   ],
   "source": [
    "fp = AllChem.GetMorganFingerprintAsBitVect(glycine, 2, nBits=1024)\n",
    "fp_arr = np.zeros((1,))\n",
    "DataStructs.ConvertToNumpyArray(fp,fp_arr)\n",
    "np.nonzero(fp_arr)"
   ]
  },
  {
   "cell_type": "code",
   "execution_count": null,
   "metadata": {
    "colab": {
     "base_uri": "https://localhost:8080/",
     "height": 34
    },
    "id": "BhOGpfU7Y3tY",
    "outputId": "89d51eeb-e400-477b-a29e-2f1ff814d31a"
   },
   "outputs": [
    {
     "data": {
      "text/plain": [
       "(array([ 27,  80, 147, 389, 650, 713, 807, 893, 966, 981]),)"
      ]
     },
     "execution_count": 27,
     "metadata": {
      "tags": []
     },
     "output_type": "execute_result"
    }
   ],
   "source": [
    "bi= {}\n",
    "fp = AllChem.GetMorganFingerprintAsBitVect(glycine, 2, nBits=1024, bitInfo=bi)\n",
    "fp_arr = np.zeros((1,))\n",
    "DataStructs.ConvertToNumpyArray(fp,fp_arr)\n",
    "np.nonzero(fp_arr)"
   ]
  },
  {
   "cell_type": "code",
   "execution_count": null,
   "metadata": {
    "colab": {
     "base_uri": "https://localhost:8080/",
     "height": 467
    },
    "id": "ui0pgIplZaGA",
    "outputId": "c07b46cd-a5ee-4a92-9584-4a610a45ff65"
   },
   "outputs": [
    {
     "data": {
      "image/png": "[encoded data removed]",
      "text/plain": [
       "<PIL.PngImagePlugin.PngImageFile image mode=RGB size=600x450 at 0x7F23009D1128>"
      ]
     },
     "execution_count": 28,
     "metadata": {
      "tags": []
     },
     "output_type": "execute_result"
    }
   ],
   "source": [
    "prints = [(glycine, x, bi) for x in fp.GetOnBits()]\n",
    "Draw.DrawMorganBits(prints, molsPerRow=4, legends = [str(x) for x in fp.GetOnBits()])"
   ]
  },
  {
   "cell_type": "code",
   "execution_count": null,
   "metadata": {
    "colab": {
     "base_uri": "https://localhost:8080/",
     "height": 217
    },
    "id": "mXfk0G9CZljt",
    "outputId": "018bd778-4496-4ea4-9422-2650fb2a9b2d"
   },
   "outputs": [
    {
     "data": {
      "image/png": "[encoded data removed]",
      "text/plain": [
       "<PIL.PngImagePlugin.PngImageFile image mode=RGB size=800x200 at 0x7F23009D1588>"
      ]
     },
     "execution_count": 29,
     "metadata": {
      "tags": []
     },
     "output_type": "execute_result"
    }
   ],
   "source": [
    "cysteine = mol_list[3]\n",
    "img = Draw.MolsToGridImage([glycine, cysteine], molsPerRow=4)\n",
    "img"
   ]
  },
  {
   "cell_type": "markdown",
   "metadata": {
    "id": "Wza1DtYWmwOG"
   },
   "source": [
    "## 두 분자사이의 유사도 비교(TanimotoSimilarity)"
   ]
  },
  {
   "cell_type": "code",
   "execution_count": null,
   "metadata": {
    "colab": {
     "base_uri": "https://localhost:8080/",
     "height": 51
    },
    "id": "mHcFdGABafHJ",
    "outputId": "69a4804a-108f-4aa2-e9d9-97da2f157558"
   },
   "outputs": [
    {
     "name": "stdout",
     "output_type": "stream",
     "text": [
      "cysteine [1, 48, 80, 147, 229, 321, 389, 403, 435, 650, 786, 807, 820, 825, 893, 902]\n",
      "glycine [27, 80, 147, 389, 650, 713, 807, 893, 966, 981]\n"
     ]
    }
   ],
   "source": [
    "fp2 = AllChem.GetMorganFingerprintAsBitVect(cysteine, 2, nBits=1024, bitInfo=bi)\n",
    "print('cysteine',list(fp2.GetOnBits()))\n",
    "print('glycine',list(fp.GetOnBits()))"
   ]
  },
  {
   "cell_type": "code",
   "execution_count": null,
   "metadata": {
    "colab": {
     "base_uri": "https://localhost:8080/",
     "height": 85
    },
    "id": "yOOGczX6awue",
    "outputId": "fe6dbb40-dae4-4d9a-c11b-9b5547f10fb1"
   },
   "outputs": [
    {
     "name": "stdout",
     "output_type": "stream",
     "text": [
      "{389, 807, 650, 80, 147, 893}\n",
      "{1, 321, 389, 902, 966, 713, 650, 80, 786, 147, 403, 981, 27, 229, 807, 48, 435, 820, 825, 893}\n",
      "0.3\n",
      "0.3\n"
     ]
    }
   ],
   "source": [
    "common = set(fp2.GetOnBits()) & set(fp.GetOnBits())\n",
    "combined = set(fp2.GetOnBits()) | set(fp.GetOnBits())\n",
    "#&&\n",
    "print(common)\n",
    "#||\n",
    "print(combined)\n",
    "#유사성  전체 원소 대비 얼마나 많은 공통부분을 가지고 있는지 Metrics\n",
    "print(len(common)/len(combined))\n",
    "print(DataStructs.TanimotoSimilarity(fp, fp2))"
   ]
  },
  {
   "cell_type": "markdown",
   "metadata": {
    "id": "vL7UEN-VUIMD"
   },
   "source": [
    "# 외부데이터 가져오고 정제하기(CheMBL DB)\n",
    "\n"
   ]
  },
  {
   "cell_type": "markdown",
   "metadata": {
    "id": "LjF_Lft_nDOI"
   },
   "source": [
    "ChEMBL DB Link: <https://www.ebi.ac.uk/chembl/>"
   ]
  },
  {
   "cell_type": "code",
   "execution_count": null,
   "metadata": {
    "id": "ScOJV4IPUBIy"
   },
   "outputs": [],
   "source": [
    "#데이터프레임 구성을 위한 pandas\n",
    "import pandas as pd\n",
    "#chembl DB에서 데이터를 가져오기위한 라이브러리\n",
    "from chembl_webresource_client.new_client import new_client"
   ]
  },
  {
   "cell_type": "code",
   "execution_count": null,
   "metadata": {
    "colab": {
     "base_uri": "https://localhost:8080/",
     "height": 317
    },
    "id": "5HAX_4KBUDRS",
    "outputId": "c7d14dc5-7634-4ab2-d9b7-e3ac87009e8f"
   },
   "outputs": [
    {
     "data": {
      "text/html": [
       "<div>\n",
       "<style scoped>\n",
       "    .dataframe tbody tr th:only-of-type {\n",
       "        vertical-align: middle;\n",
       "    }\n",
       "\n",
       "    .dataframe tbody tr th {\n",
       "        vertical-align: top;\n",
       "    }\n",
       "\n",
       "    .dataframe thead th {\n",
       "        text-align: right;\n",
       "    }\n",
       "</style>\n",
       "<table border=\"1\" class=\"dataframe\">\n",
       "  <thead>\n",
       "    <tr style=\"text-align: right;\">\n",
       "      <th></th>\n",
       "      <th>cross_references</th>\n",
       "      <th>organism</th>\n",
       "      <th>pref_name</th>\n",
       "      <th>score</th>\n",
       "      <th>species_group_flag</th>\n",
       "      <th>target_chembl_id</th>\n",
       "      <th>target_components</th>\n",
       "      <th>target_type</th>\n",
       "      <th>tax_id</th>\n",
       "    </tr>\n",
       "  </thead>\n",
       "  <tbody>\n",
       "    <tr>\n",
       "      <th>0</th>\n",
       "      <td>[]</td>\n",
       "      <td>Coronavirus</td>\n",
       "      <td>Coronavirus</td>\n",
       "      <td>17.0</td>\n",
       "      <td>False</td>\n",
       "      <td>CHEMBL613732</td>\n",
       "      <td>[]</td>\n",
       "      <td>ORGANISM</td>\n",
       "      <td>11119</td>\n",
       "    </tr>\n",
       "    <tr>\n",
       "      <th>1</th>\n",
       "      <td>[]</td>\n",
       "      <td>SARS coronavirus</td>\n",
       "      <td>SARS coronavirus</td>\n",
       "      <td>14.0</td>\n",
       "      <td>False</td>\n",
       "      <td>CHEMBL612575</td>\n",
       "      <td>[]</td>\n",
       "      <td>ORGANISM</td>\n",
       "      <td>227859</td>\n",
       "    </tr>\n",
       "    <tr>\n",
       "      <th>2</th>\n",
       "      <td>[]</td>\n",
       "      <td>Feline coronavirus</td>\n",
       "      <td>Feline coronavirus</td>\n",
       "      <td>14.0</td>\n",
       "      <td>False</td>\n",
       "      <td>CHEMBL612744</td>\n",
       "      <td>[]</td>\n",
       "      <td>ORGANISM</td>\n",
       "      <td>12663</td>\n",
       "    </tr>\n",
       "    <tr>\n",
       "      <th>3</th>\n",
       "      <td>[]</td>\n",
       "      <td>Human coronavirus 229E</td>\n",
       "      <td>Human coronavirus 229E</td>\n",
       "      <td>13.0</td>\n",
       "      <td>False</td>\n",
       "      <td>CHEMBL613837</td>\n",
       "      <td>[]</td>\n",
       "      <td>ORGANISM</td>\n",
       "      <td>11137</td>\n",
       "    </tr>\n",
       "    <tr>\n",
       "      <th>4</th>\n",
       "      <td>[{'xref_id': 'P0C6U8', 'xref_name': None, 'xre...</td>\n",
       "      <td>SARS coronavirus</td>\n",
       "      <td>SARS coronavirus 3C-like proteinase</td>\n",
       "      <td>10.0</td>\n",
       "      <td>False</td>\n",
       "      <td>CHEMBL3927</td>\n",
       "      <td>[{'accession': 'P0C6U8', 'component_descriptio...</td>\n",
       "      <td>SINGLE PROTEIN</td>\n",
       "      <td>227859</td>\n",
       "    </tr>\n",
       "    <tr>\n",
       "      <th>5</th>\n",
       "      <td>[]</td>\n",
       "      <td>Middle East respiratory syndrome-related coron...</td>\n",
       "      <td>Middle East respiratory syndrome-related coron...</td>\n",
       "      <td>9.0</td>\n",
       "      <td>False</td>\n",
       "      <td>CHEMBL4296578</td>\n",
       "      <td>[]</td>\n",
       "      <td>ORGANISM</td>\n",
       "      <td>1335626</td>\n",
       "    </tr>\n",
       "    <tr>\n",
       "      <th>6</th>\n",
       "      <td>[{'xref_id': 'P0C6X7', 'xref_name': None, 'xre...</td>\n",
       "      <td>SARS coronavirus</td>\n",
       "      <td>Replicase polyprotein 1ab</td>\n",
       "      <td>5.0</td>\n",
       "      <td>False</td>\n",
       "      <td>CHEMBL5118</td>\n",
       "      <td>[{'accession': 'P0C6X7', 'component_descriptio...</td>\n",
       "      <td>SINGLE PROTEIN</td>\n",
       "      <td>227859</td>\n",
       "    </tr>\n",
       "  </tbody>\n",
       "</table>\n",
       "</div>"
      ],
      "text/plain": [
       "                                    cross_references  ...   tax_id\n",
       "0                                                 []  ...    11119\n",
       "1                                                 []  ...   227859\n",
       "2                                                 []  ...    12663\n",
       "3                                                 []  ...    11137\n",
       "4  [{'xref_id': 'P0C6U8', 'xref_name': None, 'xre...  ...   227859\n",
       "5                                                 []  ...  1335626\n",
       "6  [{'xref_id': 'P0C6X7', 'xref_name': None, 'xre...  ...   227859\n",
       "\n",
       "[7 rows x 9 columns]"
      ]
     },
     "execution_count": 33,
     "metadata": {
      "tags": []
     },
     "output_type": "execute_result"
    }
   ],
   "source": [
    "#Coronavirus에 대한 검색 결과를 쿼리 후 데이터 프레임으로 가져오기\n",
    "target = new_client.target\n",
    "target_query = target.search('coronavirus')\n",
    "targets = pd.DataFrame.from_dict(target_query)\n",
    "targets"
   ]
  },
  {
   "cell_type": "code",
   "execution_count": null,
   "metadata": {
    "colab": {
     "base_uri": "https://localhost:8080/",
     "height": 35
    },
    "id": "SPc3pl-PUOH4",
    "outputId": "4902da48-8982-4667-d7f0-455ae9e5b219"
   },
   "outputs": [
    {
     "data": {
      "application/vnd.google.colaboratory.intrinsic+json": {
       "type": "string"
      },
      "text/plain": [
       "'CHEMBL3927'"
      ]
     },
     "execution_count": 34,
     "metadata": {
      "tags": []
     },
     "output_type": "execute_result"
    }
   ],
   "source": [
    "#4번째 인덱스에 있는 Single Protein타입의 CHEMBL3927에 관심이 있다고 가정\n",
    "wanted_target = targets.target_chembl_id[4]\n",
    "wanted_target"
   ]
  },
  {
   "cell_type": "code",
   "execution_count": null,
   "metadata": {
    "colab": {
     "base_uri": "https://localhost:8080/",
     "height": 1000
    },
    "id": "pUVmvMD2UPZs",
    "outputId": "0eac3f57-98dd-48ab-8549-7f3d50e957c7"
   },
   "outputs": [
    {
     "data": {
      "text/html": [
       "<div>\n",
       "<style scoped>\n",
       "    .dataframe tbody tr th:only-of-type {\n",
       "        vertical-align: middle;\n",
       "    }\n",
       "\n",
       "    .dataframe tbody tr th {\n",
       "        vertical-align: top;\n",
       "    }\n",
       "\n",
       "    .dataframe thead th {\n",
       "        text-align: right;\n",
       "    }\n",
       "</style>\n",
       "<table border=\"1\" class=\"dataframe\">\n",
       "  <thead>\n",
       "    <tr style=\"text-align: right;\">\n",
       "      <th></th>\n",
       "      <th>0</th>\n",
       "      <th>1</th>\n",
       "      <th>2</th>\n",
       "      <th>3</th>\n",
       "      <th>4</th>\n",
       "    </tr>\n",
       "  </thead>\n",
       "  <tbody>\n",
       "    <tr>\n",
       "      <th>activity_comment</th>\n",
       "      <td>None</td>\n",
       "      <td>None</td>\n",
       "      <td>None</td>\n",
       "      <td>None</td>\n",
       "      <td>None</td>\n",
       "    </tr>\n",
       "    <tr>\n",
       "      <th>activity_id</th>\n",
       "      <td>1480935</td>\n",
       "      <td>1480936</td>\n",
       "      <td>1481061</td>\n",
       "      <td>1481065</td>\n",
       "      <td>1481066</td>\n",
       "    </tr>\n",
       "    <tr>\n",
       "      <th>activity_properties</th>\n",
       "      <td>[]</td>\n",
       "      <td>[]</td>\n",
       "      <td>[]</td>\n",
       "      <td>[]</td>\n",
       "      <td>[]</td>\n",
       "    </tr>\n",
       "    <tr>\n",
       "      <th>assay_chembl_id</th>\n",
       "      <td>CHEMBL829584</td>\n",
       "      <td>CHEMBL829584</td>\n",
       "      <td>CHEMBL830868</td>\n",
       "      <td>CHEMBL829584</td>\n",
       "      <td>CHEMBL829584</td>\n",
       "    </tr>\n",
       "    <tr>\n",
       "      <th>assay_description</th>\n",
       "      <td>In vitro inhibitory concentration against SARS...</td>\n",
       "      <td>In vitro inhibitory concentration against SARS...</td>\n",
       "      <td>In vitro inhibitory concentration against SARS...</td>\n",
       "      <td>In vitro inhibitory concentration against SARS...</td>\n",
       "      <td>In vitro inhibitory concentration against SARS...</td>\n",
       "    </tr>\n",
       "    <tr>\n",
       "      <th>assay_type</th>\n",
       "      <td>B</td>\n",
       "      <td>B</td>\n",
       "      <td>B</td>\n",
       "      <td>B</td>\n",
       "      <td>B</td>\n",
       "    </tr>\n",
       "    <tr>\n",
       "      <th>bao_endpoint</th>\n",
       "      <td>BAO_0000190</td>\n",
       "      <td>BAO_0000190</td>\n",
       "      <td>BAO_0000190</td>\n",
       "      <td>BAO_0000190</td>\n",
       "      <td>BAO_0000190</td>\n",
       "    </tr>\n",
       "    <tr>\n",
       "      <th>bao_format</th>\n",
       "      <td>BAO_0000357</td>\n",
       "      <td>BAO_0000357</td>\n",
       "      <td>BAO_0000357</td>\n",
       "      <td>BAO_0000357</td>\n",
       "      <td>BAO_0000357</td>\n",
       "    </tr>\n",
       "    <tr>\n",
       "      <th>bao_label</th>\n",
       "      <td>single protein format</td>\n",
       "      <td>single protein format</td>\n",
       "      <td>single protein format</td>\n",
       "      <td>single protein format</td>\n",
       "      <td>single protein format</td>\n",
       "    </tr>\n",
       "    <tr>\n",
       "      <th>canonical_smiles</th>\n",
       "      <td>Cc1noc(C)c1CN1C(=O)C(=O)c2cc(C#N)ccc21</td>\n",
       "      <td>O=C1C(=O)N(Cc2ccc(F)cc2Cl)c2ccc(I)cc21</td>\n",
       "      <td>O=C1C(=O)N(CC2COc3ccccc3O2)c2ccc(I)cc21</td>\n",
       "      <td>O=C1C(=O)N(Cc2cc3ccccc3s2)c2ccccc21</td>\n",
       "      <td>O=C1C(=O)N(Cc2cc3ccccc3s2)c2c1cccc2[N+](=O)[O-]</td>\n",
       "    </tr>\n",
       "    <tr>\n",
       "      <th>data_validity_comment</th>\n",
       "      <td>None</td>\n",
       "      <td>None</td>\n",
       "      <td>None</td>\n",
       "      <td>None</td>\n",
       "      <td>None</td>\n",
       "    </tr>\n",
       "    <tr>\n",
       "      <th>data_validity_description</th>\n",
       "      <td>None</td>\n",
       "      <td>None</td>\n",
       "      <td>None</td>\n",
       "      <td>None</td>\n",
       "      <td>None</td>\n",
       "    </tr>\n",
       "    <tr>\n",
       "      <th>document_chembl_id</th>\n",
       "      <td>CHEMBL1139624</td>\n",
       "      <td>CHEMBL1139624</td>\n",
       "      <td>CHEMBL1139624</td>\n",
       "      <td>CHEMBL1139624</td>\n",
       "      <td>CHEMBL1139624</td>\n",
       "    </tr>\n",
       "    <tr>\n",
       "      <th>document_journal</th>\n",
       "      <td>Bioorg. Med. Chem. Lett.</td>\n",
       "      <td>Bioorg. Med. Chem. Lett.</td>\n",
       "      <td>Bioorg. Med. Chem. Lett.</td>\n",
       "      <td>Bioorg. Med. Chem. Lett.</td>\n",
       "      <td>Bioorg. Med. Chem. Lett.</td>\n",
       "    </tr>\n",
       "    <tr>\n",
       "      <th>document_year</th>\n",
       "      <td>2005</td>\n",
       "      <td>2005</td>\n",
       "      <td>2005</td>\n",
       "      <td>2005</td>\n",
       "      <td>2005</td>\n",
       "    </tr>\n",
       "    <tr>\n",
       "      <th>ligand_efficiency</th>\n",
       "      <td>{'bei': '18.28', 'le': '0.33', 'lle': '3.25', ...</td>\n",
       "      <td>{'bei': '12.10', 'le': '0.33', 'lle': '1.22', ...</td>\n",
       "      <td>{'bei': '11.56', 'le': '0.29', 'lle': '2.21', ...</td>\n",
       "      <td>{'bei': '16.64', 'le': '0.32', 'lle': '1.25', ...</td>\n",
       "      <td>{'bei': '16.84', 'le': '0.32', 'lle': '2.16', ...</td>\n",
       "    </tr>\n",
       "    <tr>\n",
       "      <th>molecule_chembl_id</th>\n",
       "      <td>CHEMBL187579</td>\n",
       "      <td>CHEMBL188487</td>\n",
       "      <td>CHEMBL185698</td>\n",
       "      <td>CHEMBL426082</td>\n",
       "      <td>CHEMBL187717</td>\n",
       "    </tr>\n",
       "    <tr>\n",
       "      <th>molecule_pref_name</th>\n",
       "      <td>None</td>\n",
       "      <td>None</td>\n",
       "      <td>None</td>\n",
       "      <td>None</td>\n",
       "      <td>None</td>\n",
       "    </tr>\n",
       "    <tr>\n",
       "      <th>parent_molecule_chembl_id</th>\n",
       "      <td>CHEMBL187579</td>\n",
       "      <td>CHEMBL188487</td>\n",
       "      <td>CHEMBL185698</td>\n",
       "      <td>CHEMBL426082</td>\n",
       "      <td>CHEMBL187717</td>\n",
       "    </tr>\n",
       "    <tr>\n",
       "      <th>pchembl_value</th>\n",
       "      <td>5.14</td>\n",
       "      <td>5.03</td>\n",
       "      <td>4.87</td>\n",
       "      <td>4.88</td>\n",
       "      <td>5.70</td>\n",
       "    </tr>\n",
       "    <tr>\n",
       "      <th>potential_duplicate</th>\n",
       "      <td>False</td>\n",
       "      <td>False</td>\n",
       "      <td>False</td>\n",
       "      <td>False</td>\n",
       "      <td>False</td>\n",
       "    </tr>\n",
       "    <tr>\n",
       "      <th>qudt_units</th>\n",
       "      <td>http://www.openphacts.org/units/Nanomolar</td>\n",
       "      <td>http://www.openphacts.org/units/Nanomolar</td>\n",
       "      <td>http://www.openphacts.org/units/Nanomolar</td>\n",
       "      <td>http://www.openphacts.org/units/Nanomolar</td>\n",
       "      <td>http://www.openphacts.org/units/Nanomolar</td>\n",
       "    </tr>\n",
       "    <tr>\n",
       "      <th>record_id</th>\n",
       "      <td>384103</td>\n",
       "      <td>383984</td>\n",
       "      <td>384106</td>\n",
       "      <td>384075</td>\n",
       "      <td>384234</td>\n",
       "    </tr>\n",
       "    <tr>\n",
       "      <th>relation</th>\n",
       "      <td>=</td>\n",
       "      <td>=</td>\n",
       "      <td>=</td>\n",
       "      <td>=</td>\n",
       "      <td>=</td>\n",
       "    </tr>\n",
       "    <tr>\n",
       "      <th>src_id</th>\n",
       "      <td>1</td>\n",
       "      <td>1</td>\n",
       "      <td>1</td>\n",
       "      <td>1</td>\n",
       "      <td>1</td>\n",
       "    </tr>\n",
       "    <tr>\n",
       "      <th>standard_flag</th>\n",
       "      <td>True</td>\n",
       "      <td>True</td>\n",
       "      <td>True</td>\n",
       "      <td>True</td>\n",
       "      <td>True</td>\n",
       "    </tr>\n",
       "    <tr>\n",
       "      <th>standard_relation</th>\n",
       "      <td>=</td>\n",
       "      <td>=</td>\n",
       "      <td>=</td>\n",
       "      <td>=</td>\n",
       "      <td>=</td>\n",
       "    </tr>\n",
       "    <tr>\n",
       "      <th>standard_text_value</th>\n",
       "      <td>None</td>\n",
       "      <td>None</td>\n",
       "      <td>None</td>\n",
       "      <td>None</td>\n",
       "      <td>None</td>\n",
       "    </tr>\n",
       "    <tr>\n",
       "      <th>standard_type</th>\n",
       "      <td>IC50</td>\n",
       "      <td>IC50</td>\n",
       "      <td>IC50</td>\n",
       "      <td>IC50</td>\n",
       "      <td>IC50</td>\n",
       "    </tr>\n",
       "    <tr>\n",
       "      <th>standard_units</th>\n",
       "      <td>nM</td>\n",
       "      <td>nM</td>\n",
       "      <td>nM</td>\n",
       "      <td>nM</td>\n",
       "      <td>nM</td>\n",
       "    </tr>\n",
       "    <tr>\n",
       "      <th>standard_upper_value</th>\n",
       "      <td>None</td>\n",
       "      <td>None</td>\n",
       "      <td>None</td>\n",
       "      <td>None</td>\n",
       "      <td>None</td>\n",
       "    </tr>\n",
       "    <tr>\n",
       "      <th>standard_value</th>\n",
       "      <td>7200.0</td>\n",
       "      <td>9400.0</td>\n",
       "      <td>13500.0</td>\n",
       "      <td>13110.0</td>\n",
       "      <td>2000.0</td>\n",
       "    </tr>\n",
       "    <tr>\n",
       "      <th>target_chembl_id</th>\n",
       "      <td>CHEMBL3927</td>\n",
       "      <td>CHEMBL3927</td>\n",
       "      <td>CHEMBL3927</td>\n",
       "      <td>CHEMBL3927</td>\n",
       "      <td>CHEMBL3927</td>\n",
       "    </tr>\n",
       "    <tr>\n",
       "      <th>target_organism</th>\n",
       "      <td>SARS coronavirus</td>\n",
       "      <td>SARS coronavirus</td>\n",
       "      <td>SARS coronavirus</td>\n",
       "      <td>SARS coronavirus</td>\n",
       "      <td>SARS coronavirus</td>\n",
       "    </tr>\n",
       "    <tr>\n",
       "      <th>target_pref_name</th>\n",
       "      <td>SARS coronavirus 3C-like proteinase</td>\n",
       "      <td>SARS coronavirus 3C-like proteinase</td>\n",
       "      <td>SARS coronavirus 3C-like proteinase</td>\n",
       "      <td>SARS coronavirus 3C-like proteinase</td>\n",
       "      <td>SARS coronavirus 3C-like proteinase</td>\n",
       "    </tr>\n",
       "    <tr>\n",
       "      <th>target_tax_id</th>\n",
       "      <td>227859</td>\n",
       "      <td>227859</td>\n",
       "      <td>227859</td>\n",
       "      <td>227859</td>\n",
       "      <td>227859</td>\n",
       "    </tr>\n",
       "    <tr>\n",
       "      <th>text_value</th>\n",
       "      <td>None</td>\n",
       "      <td>None</td>\n",
       "      <td>None</td>\n",
       "      <td>None</td>\n",
       "      <td>None</td>\n",
       "    </tr>\n",
       "    <tr>\n",
       "      <th>toid</th>\n",
       "      <td>None</td>\n",
       "      <td>None</td>\n",
       "      <td>None</td>\n",
       "      <td>None</td>\n",
       "      <td>None</td>\n",
       "    </tr>\n",
       "    <tr>\n",
       "      <th>type</th>\n",
       "      <td>IC50</td>\n",
       "      <td>IC50</td>\n",
       "      <td>IC50</td>\n",
       "      <td>IC50</td>\n",
       "      <td>IC50</td>\n",
       "    </tr>\n",
       "    <tr>\n",
       "      <th>units</th>\n",
       "      <td>uM</td>\n",
       "      <td>uM</td>\n",
       "      <td>uM</td>\n",
       "      <td>uM</td>\n",
       "      <td>uM</td>\n",
       "    </tr>\n",
       "    <tr>\n",
       "      <th>uo_units</th>\n",
       "      <td>UO_0000065</td>\n",
       "      <td>UO_0000065</td>\n",
       "      <td>UO_0000065</td>\n",
       "      <td>UO_0000065</td>\n",
       "      <td>UO_0000065</td>\n",
       "    </tr>\n",
       "    <tr>\n",
       "      <th>upper_value</th>\n",
       "      <td>None</td>\n",
       "      <td>None</td>\n",
       "      <td>None</td>\n",
       "      <td>None</td>\n",
       "      <td>None</td>\n",
       "    </tr>\n",
       "    <tr>\n",
       "      <th>value</th>\n",
       "      <td>7.2</td>\n",
       "      <td>9.4</td>\n",
       "      <td>13.5</td>\n",
       "      <td>13.11</td>\n",
       "      <td>2.0</td>\n",
       "    </tr>\n",
       "  </tbody>\n",
       "</table>\n",
       "</div>"
      ],
      "text/plain": [
       "                                                                           0  ...                                                  4\n",
       "activity_comment                                                        None  ...                                               None\n",
       "activity_id                                                          1480935  ...                                            1481066\n",
       "activity_properties                                                       []  ...                                                 []\n",
       "assay_chembl_id                                                 CHEMBL829584  ...                                       CHEMBL829584\n",
       "assay_description          In vitro inhibitory concentration against SARS...  ...  In vitro inhibitory concentration against SARS...\n",
       "assay_type                                                                 B  ...                                                  B\n",
       "bao_endpoint                                                     BAO_0000190  ...                                        BAO_0000190\n",
       "bao_format                                                       BAO_0000357  ...                                        BAO_0000357\n",
       "bao_label                                              single protein format  ...                              single protein format\n",
       "canonical_smiles                      Cc1noc(C)c1CN1C(=O)C(=O)c2cc(C#N)ccc21  ...    O=C1C(=O)N(Cc2cc3ccccc3s2)c2c1cccc2[N+](=O)[O-]\n",
       "data_validity_comment                                                   None  ...                                               None\n",
       "data_validity_description                                               None  ...                                               None\n",
       "document_chembl_id                                             CHEMBL1139624  ...                                      CHEMBL1139624\n",
       "document_journal                                    Bioorg. Med. Chem. Lett.  ...                           Bioorg. Med. Chem. Lett.\n",
       "document_year                                                           2005  ...                                               2005\n",
       "ligand_efficiency          {'bei': '18.28', 'le': '0.33', 'lle': '3.25', ...  ...  {'bei': '16.84', 'le': '0.32', 'lle': '2.16', ...\n",
       "molecule_chembl_id                                              CHEMBL187579  ...                                       CHEMBL187717\n",
       "molecule_pref_name                                                      None  ...                                               None\n",
       "parent_molecule_chembl_id                                       CHEMBL187579  ...                                       CHEMBL187717\n",
       "pchembl_value                                                           5.14  ...                                               5.70\n",
       "potential_duplicate                                                    False  ...                                              False\n",
       "qudt_units                         http://www.openphacts.org/units/Nanomolar  ...          http://www.openphacts.org/units/Nanomolar\n",
       "record_id                                                             384103  ...                                             384234\n",
       "relation                                                                   =  ...                                                  =\n",
       "src_id                                                                     1  ...                                                  1\n",
       "standard_flag                                                           True  ...                                               True\n",
       "standard_relation                                                          =  ...                                                  =\n",
       "standard_text_value                                                     None  ...                                               None\n",
       "standard_type                                                           IC50  ...                                               IC50\n",
       "standard_units                                                            nM  ...                                                 nM\n",
       "standard_upper_value                                                    None  ...                                               None\n",
       "standard_value                                                        7200.0  ...                                             2000.0\n",
       "target_chembl_id                                                  CHEMBL3927  ...                                         CHEMBL3927\n",
       "target_organism                                             SARS coronavirus  ...                                   SARS coronavirus\n",
       "target_pref_name                         SARS coronavirus 3C-like proteinase  ...                SARS coronavirus 3C-like proteinase\n",
       "target_tax_id                                                         227859  ...                                             227859\n",
       "text_value                                                              None  ...                                               None\n",
       "toid                                                                    None  ...                                               None\n",
       "type                                                                    IC50  ...                                               IC50\n",
       "units                                                                     uM  ...                                                 uM\n",
       "uo_units                                                          UO_0000065  ...                                         UO_0000065\n",
       "upper_value                                                             None  ...                                               None\n",
       "value                                                                    7.2  ...                                                2.0\n",
       "\n",
       "[43 rows x 5 columns]"
      ]
     },
     "execution_count": 35,
     "metadata": {
      "tags": []
     },
     "output_type": "execute_result"
    }
   ],
   "source": [
    "activity = new_client.activity\n",
    "resource = activity.filter(target_chembl_id = wanted_target).filter(standard_type=\"IC50\")\n",
    "data=pd.DataFrame.from_dict(resource)\n",
    "#.T명령어를 사용하여 데이터모양을 전치\n",
    "data.head(5).T"
   ]
  },
  {
   "cell_type": "markdown",
   "metadata": {
    "id": "tyNHg51HnVG7"
   },
   "source": [
    "## 결측치 처리"
   ]
  },
  {
   "cell_type": "code",
   "execution_count": null,
   "metadata": {
    "colab": {
     "base_uri": "https://localhost:8080/",
     "height": 394
    },
    "id": "D4guaKumUS5b",
    "outputId": "72af6d0b-412f-4f62-d6ba-b5fee34a1e7c"
   },
   "outputs": [
    {
     "data": {
      "text/html": [
       "<div>\n",
       "<style scoped>\n",
       "    .dataframe tbody tr th:only-of-type {\n",
       "        vertical-align: middle;\n",
       "    }\n",
       "\n",
       "    .dataframe tbody tr th {\n",
       "        vertical-align: top;\n",
       "    }\n",
       "\n",
       "    .dataframe thead th {\n",
       "        text-align: right;\n",
       "    }\n",
       "</style>\n",
       "<table border=\"1\" class=\"dataframe\">\n",
       "  <thead>\n",
       "    <tr style=\"text-align: right;\">\n",
       "      <th></th>\n",
       "      <th>activity_id</th>\n",
       "      <th>activity_properties</th>\n",
       "      <th>assay_chembl_id</th>\n",
       "      <th>assay_description</th>\n",
       "      <th>assay_type</th>\n",
       "      <th>bao_endpoint</th>\n",
       "      <th>bao_format</th>\n",
       "      <th>bao_label</th>\n",
       "      <th>canonical_smiles</th>\n",
       "      <th>document_chembl_id</th>\n",
       "      <th>document_journal</th>\n",
       "      <th>document_year</th>\n",
       "      <th>molecule_chembl_id</th>\n",
       "      <th>parent_molecule_chembl_id</th>\n",
       "      <th>potential_duplicate</th>\n",
       "      <th>qudt_units</th>\n",
       "      <th>record_id</th>\n",
       "      <th>relation</th>\n",
       "      <th>src_id</th>\n",
       "      <th>standard_flag</th>\n",
       "      <th>standard_relation</th>\n",
       "      <th>standard_type</th>\n",
       "      <th>standard_units</th>\n",
       "      <th>standard_value</th>\n",
       "      <th>target_chembl_id</th>\n",
       "      <th>target_organism</th>\n",
       "      <th>target_pref_name</th>\n",
       "      <th>target_tax_id</th>\n",
       "      <th>type</th>\n",
       "      <th>uo_units</th>\n",
       "      <th>value</th>\n",
       "    </tr>\n",
       "  </thead>\n",
       "  <tbody>\n",
       "    <tr>\n",
       "      <th>0</th>\n",
       "      <td>1480935</td>\n",
       "      <td>[]</td>\n",
       "      <td>CHEMBL829584</td>\n",
       "      <td>In vitro inhibitory concentration against SARS...</td>\n",
       "      <td>B</td>\n",
       "      <td>BAO_0000190</td>\n",
       "      <td>BAO_0000357</td>\n",
       "      <td>single protein format</td>\n",
       "      <td>Cc1noc(C)c1CN1C(=O)C(=O)c2cc(C#N)ccc21</td>\n",
       "      <td>CHEMBL1139624</td>\n",
       "      <td>Bioorg. Med. Chem. Lett.</td>\n",
       "      <td>2005</td>\n",
       "      <td>CHEMBL187579</td>\n",
       "      <td>CHEMBL187579</td>\n",
       "      <td>False</td>\n",
       "      <td>http://www.openphacts.org/units/Nanomolar</td>\n",
       "      <td>384103</td>\n",
       "      <td>=</td>\n",
       "      <td>1</td>\n",
       "      <td>True</td>\n",
       "      <td>=</td>\n",
       "      <td>IC50</td>\n",
       "      <td>nM</td>\n",
       "      <td>7200.0</td>\n",
       "      <td>CHEMBL3927</td>\n",
       "      <td>SARS coronavirus</td>\n",
       "      <td>SARS coronavirus 3C-like proteinase</td>\n",
       "      <td>227859</td>\n",
       "      <td>IC50</td>\n",
       "      <td>UO_0000065</td>\n",
       "      <td>7.2</td>\n",
       "    </tr>\n",
       "    <tr>\n",
       "      <th>1</th>\n",
       "      <td>1480936</td>\n",
       "      <td>[]</td>\n",
       "      <td>CHEMBL829584</td>\n",
       "      <td>In vitro inhibitory concentration against SARS...</td>\n",
       "      <td>B</td>\n",
       "      <td>BAO_0000190</td>\n",
       "      <td>BAO_0000357</td>\n",
       "      <td>single protein format</td>\n",
       "      <td>O=C1C(=O)N(Cc2ccc(F)cc2Cl)c2ccc(I)cc21</td>\n",
       "      <td>CHEMBL1139624</td>\n",
       "      <td>Bioorg. Med. Chem. Lett.</td>\n",
       "      <td>2005</td>\n",
       "      <td>CHEMBL188487</td>\n",
       "      <td>CHEMBL188487</td>\n",
       "      <td>False</td>\n",
       "      <td>http://www.openphacts.org/units/Nanomolar</td>\n",
       "      <td>383984</td>\n",
       "      <td>=</td>\n",
       "      <td>1</td>\n",
       "      <td>True</td>\n",
       "      <td>=</td>\n",
       "      <td>IC50</td>\n",
       "      <td>nM</td>\n",
       "      <td>9400.0</td>\n",
       "      <td>CHEMBL3927</td>\n",
       "      <td>SARS coronavirus</td>\n",
       "      <td>SARS coronavirus 3C-like proteinase</td>\n",
       "      <td>227859</td>\n",
       "      <td>IC50</td>\n",
       "      <td>UO_0000065</td>\n",
       "      <td>9.4</td>\n",
       "    </tr>\n",
       "    <tr>\n",
       "      <th>2</th>\n",
       "      <td>1481061</td>\n",
       "      <td>[]</td>\n",
       "      <td>CHEMBL830868</td>\n",
       "      <td>In vitro inhibitory concentration against SARS...</td>\n",
       "      <td>B</td>\n",
       "      <td>BAO_0000190</td>\n",
       "      <td>BAO_0000357</td>\n",
       "      <td>single protein format</td>\n",
       "      <td>O=C1C(=O)N(CC2COc3ccccc3O2)c2ccc(I)cc21</td>\n",
       "      <td>CHEMBL1139624</td>\n",
       "      <td>Bioorg. Med. Chem. Lett.</td>\n",
       "      <td>2005</td>\n",
       "      <td>CHEMBL185698</td>\n",
       "      <td>CHEMBL185698</td>\n",
       "      <td>False</td>\n",
       "      <td>http://www.openphacts.org/units/Nanomolar</td>\n",
       "      <td>384106</td>\n",
       "      <td>=</td>\n",
       "      <td>1</td>\n",
       "      <td>True</td>\n",
       "      <td>=</td>\n",
       "      <td>IC50</td>\n",
       "      <td>nM</td>\n",
       "      <td>13500.0</td>\n",
       "      <td>CHEMBL3927</td>\n",
       "      <td>SARS coronavirus</td>\n",
       "      <td>SARS coronavirus 3C-like proteinase</td>\n",
       "      <td>227859</td>\n",
       "      <td>IC50</td>\n",
       "      <td>UO_0000065</td>\n",
       "      <td>13.5</td>\n",
       "    </tr>\n",
       "    <tr>\n",
       "      <th>3</th>\n",
       "      <td>1481065</td>\n",
       "      <td>[]</td>\n",
       "      <td>CHEMBL829584</td>\n",
       "      <td>In vitro inhibitory concentration against SARS...</td>\n",
       "      <td>B</td>\n",
       "      <td>BAO_0000190</td>\n",
       "      <td>BAO_0000357</td>\n",
       "      <td>single protein format</td>\n",
       "      <td>O=C1C(=O)N(Cc2cc3ccccc3s2)c2ccccc21</td>\n",
       "      <td>CHEMBL1139624</td>\n",
       "      <td>Bioorg. Med. Chem. Lett.</td>\n",
       "      <td>2005</td>\n",
       "      <td>CHEMBL426082</td>\n",
       "      <td>CHEMBL426082</td>\n",
       "      <td>False</td>\n",
       "      <td>http://www.openphacts.org/units/Nanomolar</td>\n",
       "      <td>384075</td>\n",
       "      <td>=</td>\n",
       "      <td>1</td>\n",
       "      <td>True</td>\n",
       "      <td>=</td>\n",
       "      <td>IC50</td>\n",
       "      <td>nM</td>\n",
       "      <td>13110.0</td>\n",
       "      <td>CHEMBL3927</td>\n",
       "      <td>SARS coronavirus</td>\n",
       "      <td>SARS coronavirus 3C-like proteinase</td>\n",
       "      <td>227859</td>\n",
       "      <td>IC50</td>\n",
       "      <td>UO_0000065</td>\n",
       "      <td>13.11</td>\n",
       "    </tr>\n",
       "    <tr>\n",
       "      <th>4</th>\n",
       "      <td>1481066</td>\n",
       "      <td>[]</td>\n",
       "      <td>CHEMBL829584</td>\n",
       "      <td>In vitro inhibitory concentration against SARS...</td>\n",
       "      <td>B</td>\n",
       "      <td>BAO_0000190</td>\n",
       "      <td>BAO_0000357</td>\n",
       "      <td>single protein format</td>\n",
       "      <td>O=C1C(=O)N(Cc2cc3ccccc3s2)c2c1cccc2[N+](=O)[O-]</td>\n",
       "      <td>CHEMBL1139624</td>\n",
       "      <td>Bioorg. Med. Chem. Lett.</td>\n",
       "      <td>2005</td>\n",
       "      <td>CHEMBL187717</td>\n",
       "      <td>CHEMBL187717</td>\n",
       "      <td>False</td>\n",
       "      <td>http://www.openphacts.org/units/Nanomolar</td>\n",
       "      <td>384234</td>\n",
       "      <td>=</td>\n",
       "      <td>1</td>\n",
       "      <td>True</td>\n",
       "      <td>=</td>\n",
       "      <td>IC50</td>\n",
       "      <td>nM</td>\n",
       "      <td>2000.0</td>\n",
       "      <td>CHEMBL3927</td>\n",
       "      <td>SARS coronavirus</td>\n",
       "      <td>SARS coronavirus 3C-like proteinase</td>\n",
       "      <td>227859</td>\n",
       "      <td>IC50</td>\n",
       "      <td>UO_0000065</td>\n",
       "      <td>2.0</td>\n",
       "    </tr>\n",
       "  </tbody>\n",
       "</table>\n",
       "</div>"
      ],
      "text/plain": [
       "   activity_id activity_properties assay_chembl_id  ...  type    uo_units  value\n",
       "0      1480935                  []    CHEMBL829584  ...  IC50  UO_0000065    7.2\n",
       "1      1480936                  []    CHEMBL829584  ...  IC50  UO_0000065    9.4\n",
       "2      1481061                  []    CHEMBL830868  ...  IC50  UO_0000065   13.5\n",
       "3      1481065                  []    CHEMBL829584  ...  IC50  UO_0000065  13.11\n",
       "4      1481066                  []    CHEMBL829584  ...  IC50  UO_0000065    2.0\n",
       "\n",
       "[5 rows x 31 columns]"
      ]
     },
     "execution_count": 36,
     "metadata": {
      "tags": []
     },
     "output_type": "execute_result"
    }
   ],
   "source": [
    "#결측치 데이터 제거 axis=0 행, axis=1 열\n",
    "data= data.dropna(axis=1)\n",
    "data.head(5)"
   ]
  },
  {
   "cell_type": "markdown",
   "metadata": {
    "id": "YsptJIBKnawN"
   },
   "source": [
    "## 타겟변수 클래스화"
   ]
  },
  {
   "cell_type": "code",
   "execution_count": null,
   "metadata": {
    "id": "zQr_9_pEUW20"
   },
   "outputs": [],
   "source": [
    "#범주형 변수화\n",
    "bioactivity_class = []\n",
    "for i in data.standard_value:\n",
    "  if float(i) >= 10000:\n",
    "    bioactivity_class.append(\"inactive\")\n",
    "  elif float(i) <= 1000:\n",
    "    bioactivity_class.append(\"active\")\n",
    "  else:\n",
    "    bioactivity_class.append(\"intermediate\")"
   ]
  },
  {
   "cell_type": "code",
   "execution_count": null,
   "metadata": {
    "id": "UkGvgtAKUYIP"
   },
   "outputs": [],
   "source": [
    "data['activity']=bioactivity_class"
   ]
  },
  {
   "cell_type": "code",
   "execution_count": null,
   "metadata": {
    "colab": {
     "base_uri": "https://localhost:8080/",
     "height": 394
    },
    "id": "V4gGcjcIUZcb",
    "outputId": "8a594af2-7d59-4eee-81c9-4d6e44159123"
   },
   "outputs": [
    {
     "data": {
      "text/html": [
       "<div>\n",
       "<style scoped>\n",
       "    .dataframe tbody tr th:only-of-type {\n",
       "        vertical-align: middle;\n",
       "    }\n",
       "\n",
       "    .dataframe tbody tr th {\n",
       "        vertical-align: top;\n",
       "    }\n",
       "\n",
       "    .dataframe thead th {\n",
       "        text-align: right;\n",
       "    }\n",
       "</style>\n",
       "<table border=\"1\" class=\"dataframe\">\n",
       "  <thead>\n",
       "    <tr style=\"text-align: right;\">\n",
       "      <th></th>\n",
       "      <th>activity_id</th>\n",
       "      <th>activity_properties</th>\n",
       "      <th>assay_chembl_id</th>\n",
       "      <th>assay_description</th>\n",
       "      <th>assay_type</th>\n",
       "      <th>bao_endpoint</th>\n",
       "      <th>bao_format</th>\n",
       "      <th>bao_label</th>\n",
       "      <th>canonical_smiles</th>\n",
       "      <th>document_chembl_id</th>\n",
       "      <th>document_journal</th>\n",
       "      <th>document_year</th>\n",
       "      <th>molecule_chembl_id</th>\n",
       "      <th>parent_molecule_chembl_id</th>\n",
       "      <th>potential_duplicate</th>\n",
       "      <th>qudt_units</th>\n",
       "      <th>record_id</th>\n",
       "      <th>relation</th>\n",
       "      <th>src_id</th>\n",
       "      <th>standard_flag</th>\n",
       "      <th>standard_relation</th>\n",
       "      <th>standard_type</th>\n",
       "      <th>standard_units</th>\n",
       "      <th>standard_value</th>\n",
       "      <th>target_chembl_id</th>\n",
       "      <th>target_organism</th>\n",
       "      <th>target_pref_name</th>\n",
       "      <th>target_tax_id</th>\n",
       "      <th>type</th>\n",
       "      <th>uo_units</th>\n",
       "      <th>value</th>\n",
       "      <th>activity</th>\n",
       "    </tr>\n",
       "  </thead>\n",
       "  <tbody>\n",
       "    <tr>\n",
       "      <th>0</th>\n",
       "      <td>1480935</td>\n",
       "      <td>[]</td>\n",
       "      <td>CHEMBL829584</td>\n",
       "      <td>In vitro inhibitory concentration against SARS...</td>\n",
       "      <td>B</td>\n",
       "      <td>BAO_0000190</td>\n",
       "      <td>BAO_0000357</td>\n",
       "      <td>single protein format</td>\n",
       "      <td>Cc1noc(C)c1CN1C(=O)C(=O)c2cc(C#N)ccc21</td>\n",
       "      <td>CHEMBL1139624</td>\n",
       "      <td>Bioorg. Med. Chem. Lett.</td>\n",
       "      <td>2005</td>\n",
       "      <td>CHEMBL187579</td>\n",
       "      <td>CHEMBL187579</td>\n",
       "      <td>False</td>\n",
       "      <td>http://www.openphacts.org/units/Nanomolar</td>\n",
       "      <td>384103</td>\n",
       "      <td>=</td>\n",
       "      <td>1</td>\n",
       "      <td>True</td>\n",
       "      <td>=</td>\n",
       "      <td>IC50</td>\n",
       "      <td>nM</td>\n",
       "      <td>7200.0</td>\n",
       "      <td>CHEMBL3927</td>\n",
       "      <td>SARS coronavirus</td>\n",
       "      <td>SARS coronavirus 3C-like proteinase</td>\n",
       "      <td>227859</td>\n",
       "      <td>IC50</td>\n",
       "      <td>UO_0000065</td>\n",
       "      <td>7.2</td>\n",
       "      <td>intermediate</td>\n",
       "    </tr>\n",
       "    <tr>\n",
       "      <th>1</th>\n",
       "      <td>1480936</td>\n",
       "      <td>[]</td>\n",
       "      <td>CHEMBL829584</td>\n",
       "      <td>In vitro inhibitory concentration against SARS...</td>\n",
       "      <td>B</td>\n",
       "      <td>BAO_0000190</td>\n",
       "      <td>BAO_0000357</td>\n",
       "      <td>single protein format</td>\n",
       "      <td>O=C1C(=O)N(Cc2ccc(F)cc2Cl)c2ccc(I)cc21</td>\n",
       "      <td>CHEMBL1139624</td>\n",
       "      <td>Bioorg. Med. Chem. Lett.</td>\n",
       "      <td>2005</td>\n",
       "      <td>CHEMBL188487</td>\n",
       "      <td>CHEMBL188487</td>\n",
       "      <td>False</td>\n",
       "      <td>http://www.openphacts.org/units/Nanomolar</td>\n",
       "      <td>383984</td>\n",
       "      <td>=</td>\n",
       "      <td>1</td>\n",
       "      <td>True</td>\n",
       "      <td>=</td>\n",
       "      <td>IC50</td>\n",
       "      <td>nM</td>\n",
       "      <td>9400.0</td>\n",
       "      <td>CHEMBL3927</td>\n",
       "      <td>SARS coronavirus</td>\n",
       "      <td>SARS coronavirus 3C-like proteinase</td>\n",
       "      <td>227859</td>\n",
       "      <td>IC50</td>\n",
       "      <td>UO_0000065</td>\n",
       "      <td>9.4</td>\n",
       "      <td>intermediate</td>\n",
       "    </tr>\n",
       "    <tr>\n",
       "      <th>2</th>\n",
       "      <td>1481061</td>\n",
       "      <td>[]</td>\n",
       "      <td>CHEMBL830868</td>\n",
       "      <td>In vitro inhibitory concentration against SARS...</td>\n",
       "      <td>B</td>\n",
       "      <td>BAO_0000190</td>\n",
       "      <td>BAO_0000357</td>\n",
       "      <td>single protein format</td>\n",
       "      <td>O=C1C(=O)N(CC2COc3ccccc3O2)c2ccc(I)cc21</td>\n",
       "      <td>CHEMBL1139624</td>\n",
       "      <td>Bioorg. Med. Chem. Lett.</td>\n",
       "      <td>2005</td>\n",
       "      <td>CHEMBL185698</td>\n",
       "      <td>CHEMBL185698</td>\n",
       "      <td>False</td>\n",
       "      <td>http://www.openphacts.org/units/Nanomolar</td>\n",
       "      <td>384106</td>\n",
       "      <td>=</td>\n",
       "      <td>1</td>\n",
       "      <td>True</td>\n",
       "      <td>=</td>\n",
       "      <td>IC50</td>\n",
       "      <td>nM</td>\n",
       "      <td>13500.0</td>\n",
       "      <td>CHEMBL3927</td>\n",
       "      <td>SARS coronavirus</td>\n",
       "      <td>SARS coronavirus 3C-like proteinase</td>\n",
       "      <td>227859</td>\n",
       "      <td>IC50</td>\n",
       "      <td>UO_0000065</td>\n",
       "      <td>13.5</td>\n",
       "      <td>inactive</td>\n",
       "    </tr>\n",
       "    <tr>\n",
       "      <th>3</th>\n",
       "      <td>1481065</td>\n",
       "      <td>[]</td>\n",
       "      <td>CHEMBL829584</td>\n",
       "      <td>In vitro inhibitory concentration against SARS...</td>\n",
       "      <td>B</td>\n",
       "      <td>BAO_0000190</td>\n",
       "      <td>BAO_0000357</td>\n",
       "      <td>single protein format</td>\n",
       "      <td>O=C1C(=O)N(Cc2cc3ccccc3s2)c2ccccc21</td>\n",
       "      <td>CHEMBL1139624</td>\n",
       "      <td>Bioorg. Med. Chem. Lett.</td>\n",
       "      <td>2005</td>\n",
       "      <td>CHEMBL426082</td>\n",
       "      <td>CHEMBL426082</td>\n",
       "      <td>False</td>\n",
       "      <td>http://www.openphacts.org/units/Nanomolar</td>\n",
       "      <td>384075</td>\n",
       "      <td>=</td>\n",
       "      <td>1</td>\n",
       "      <td>True</td>\n",
       "      <td>=</td>\n",
       "      <td>IC50</td>\n",
       "      <td>nM</td>\n",
       "      <td>13110.0</td>\n",
       "      <td>CHEMBL3927</td>\n",
       "      <td>SARS coronavirus</td>\n",
       "      <td>SARS coronavirus 3C-like proteinase</td>\n",
       "      <td>227859</td>\n",
       "      <td>IC50</td>\n",
       "      <td>UO_0000065</td>\n",
       "      <td>13.11</td>\n",
       "      <td>inactive</td>\n",
       "    </tr>\n",
       "    <tr>\n",
       "      <th>4</th>\n",
       "      <td>1481066</td>\n",
       "      <td>[]</td>\n",
       "      <td>CHEMBL829584</td>\n",
       "      <td>In vitro inhibitory concentration against SARS...</td>\n",
       "      <td>B</td>\n",
       "      <td>BAO_0000190</td>\n",
       "      <td>BAO_0000357</td>\n",
       "      <td>single protein format</td>\n",
       "      <td>O=C1C(=O)N(Cc2cc3ccccc3s2)c2c1cccc2[N+](=O)[O-]</td>\n",
       "      <td>CHEMBL1139624</td>\n",
       "      <td>Bioorg. Med. Chem. Lett.</td>\n",
       "      <td>2005</td>\n",
       "      <td>CHEMBL187717</td>\n",
       "      <td>CHEMBL187717</td>\n",
       "      <td>False</td>\n",
       "      <td>http://www.openphacts.org/units/Nanomolar</td>\n",
       "      <td>384234</td>\n",
       "      <td>=</td>\n",
       "      <td>1</td>\n",
       "      <td>True</td>\n",
       "      <td>=</td>\n",
       "      <td>IC50</td>\n",
       "      <td>nM</td>\n",
       "      <td>2000.0</td>\n",
       "      <td>CHEMBL3927</td>\n",
       "      <td>SARS coronavirus</td>\n",
       "      <td>SARS coronavirus 3C-like proteinase</td>\n",
       "      <td>227859</td>\n",
       "      <td>IC50</td>\n",
       "      <td>UO_0000065</td>\n",
       "      <td>2.0</td>\n",
       "      <td>intermediate</td>\n",
       "    </tr>\n",
       "  </tbody>\n",
       "</table>\n",
       "</div>"
      ],
      "text/plain": [
       "   activity_id activity_properties  ...  value      activity\n",
       "0      1480935                  []  ...    7.2  intermediate\n",
       "1      1480936                  []  ...    9.4  intermediate\n",
       "2      1481061                  []  ...   13.5      inactive\n",
       "3      1481065                  []  ...  13.11      inactive\n",
       "4      1481066                  []  ...    2.0  intermediate\n",
       "\n",
       "[5 rows x 32 columns]"
      ]
     },
     "execution_count": 39,
     "metadata": {
      "tags": []
     },
     "output_type": "execute_result"
    }
   ],
   "source": [
    "data.head(5)"
   ]
  },
  {
   "cell_type": "code",
   "execution_count": null,
   "metadata": {
    "id": "XAMaOx_yUanf"
   },
   "outputs": [],
   "source": [
    "mol_cid = []\n",
    "for i in data.molecule_chembl_id:\n",
    "  mol_cid.append(i)\n",
    "canonical_smiles = []\n",
    "for i in data.canonical_smiles:\n",
    "  canonical_smiles.append(i)\n",
    "standard_value = []\n",
    "for i in data.standard_value:\n",
    "  standard_value.append(i)"
   ]
  },
  {
   "cell_type": "code",
   "execution_count": null,
   "metadata": {
    "id": "HsZytURwUbzX"
   },
   "outputs": [],
   "source": [
    "data_tuples = list(zip(mol_cid, canonical_smiles, bioactivity_class, standard_value))\n",
    "data2 = pd.DataFrame( data_tuples,  columns=['molecule_id', 'smiles','bioactivity', 'standard_value'])"
   ]
  },
  {
   "cell_type": "code",
   "execution_count": null,
   "metadata": {
    "colab": {
     "base_uri": "https://localhost:8080/",
     "height": 204
    },
    "id": "fIqqOa45Uc14",
    "outputId": "b0384607-9f32-412a-b1bf-b6476d11a979"
   },
   "outputs": [
    {
     "data": {
      "text/html": [
       "<div>\n",
       "<style scoped>\n",
       "    .dataframe tbody tr th:only-of-type {\n",
       "        vertical-align: middle;\n",
       "    }\n",
       "\n",
       "    .dataframe tbody tr th {\n",
       "        vertical-align: top;\n",
       "    }\n",
       "\n",
       "    .dataframe thead th {\n",
       "        text-align: right;\n",
       "    }\n",
       "</style>\n",
       "<table border=\"1\" class=\"dataframe\">\n",
       "  <thead>\n",
       "    <tr style=\"text-align: right;\">\n",
       "      <th></th>\n",
       "      <th>molecule_id</th>\n",
       "      <th>smiles</th>\n",
       "      <th>bioactivity</th>\n",
       "      <th>standard_value</th>\n",
       "    </tr>\n",
       "  </thead>\n",
       "  <tbody>\n",
       "    <tr>\n",
       "      <th>0</th>\n",
       "      <td>CHEMBL187579</td>\n",
       "      <td>Cc1noc(C)c1CN1C(=O)C(=O)c2cc(C#N)ccc21</td>\n",
       "      <td>intermediate</td>\n",
       "      <td>7200.0</td>\n",
       "    </tr>\n",
       "    <tr>\n",
       "      <th>1</th>\n",
       "      <td>CHEMBL188487</td>\n",
       "      <td>O=C1C(=O)N(Cc2ccc(F)cc2Cl)c2ccc(I)cc21</td>\n",
       "      <td>intermediate</td>\n",
       "      <td>9400.0</td>\n",
       "    </tr>\n",
       "    <tr>\n",
       "      <th>2</th>\n",
       "      <td>CHEMBL185698</td>\n",
       "      <td>O=C1C(=O)N(CC2COc3ccccc3O2)c2ccc(I)cc21</td>\n",
       "      <td>inactive</td>\n",
       "      <td>13500.0</td>\n",
       "    </tr>\n",
       "    <tr>\n",
       "      <th>3</th>\n",
       "      <td>CHEMBL426082</td>\n",
       "      <td>O=C1C(=O)N(Cc2cc3ccccc3s2)c2ccccc21</td>\n",
       "      <td>inactive</td>\n",
       "      <td>13110.0</td>\n",
       "    </tr>\n",
       "    <tr>\n",
       "      <th>4</th>\n",
       "      <td>CHEMBL187717</td>\n",
       "      <td>O=C1C(=O)N(Cc2cc3ccccc3s2)c2c1cccc2[N+](=O)[O-]</td>\n",
       "      <td>intermediate</td>\n",
       "      <td>2000.0</td>\n",
       "    </tr>\n",
       "  </tbody>\n",
       "</table>\n",
       "</div>"
      ],
      "text/plain": [
       "    molecule_id  ... standard_value\n",
       "0  CHEMBL187579  ...         7200.0\n",
       "1  CHEMBL188487  ...         9400.0\n",
       "2  CHEMBL185698  ...        13500.0\n",
       "3  CHEMBL426082  ...        13110.0\n",
       "4  CHEMBL187717  ...         2000.0\n",
       "\n",
       "[5 rows x 4 columns]"
      ]
     },
     "execution_count": 42,
     "metadata": {
      "tags": []
     },
     "output_type": "execute_result"
    }
   ],
   "source": [
    "data2.head(5)"
   ]
  },
  {
   "cell_type": "code",
   "execution_count": null,
   "metadata": {
    "colab": {
     "base_uri": "https://localhost:8080/",
     "height": 419
    },
    "id": "fjp_5prRUdyn",
    "outputId": "094a41b1-a560-409d-d0a8-1401345ce6db"
   },
   "outputs": [
    {
     "data": {
      "text/html": [
       "<div>\n",
       "<style scoped>\n",
       "    .dataframe tbody tr th:only-of-type {\n",
       "        vertical-align: middle;\n",
       "    }\n",
       "\n",
       "    .dataframe tbody tr th {\n",
       "        vertical-align: top;\n",
       "    }\n",
       "\n",
       "    .dataframe thead th {\n",
       "        text-align: right;\n",
       "    }\n",
       "</style>\n",
       "<table border=\"1\" class=\"dataframe\">\n",
       "  <thead>\n",
       "    <tr style=\"text-align: right;\">\n",
       "      <th></th>\n",
       "      <th>molecule_id</th>\n",
       "      <th>smiles</th>\n",
       "      <th>standard_value</th>\n",
       "    </tr>\n",
       "  </thead>\n",
       "  <tbody>\n",
       "    <tr>\n",
       "      <th>0</th>\n",
       "      <td>CHEMBL187579</td>\n",
       "      <td>Cc1noc(C)c1CN1C(=O)C(=O)c2cc(C#N)ccc21</td>\n",
       "      <td>7200.0</td>\n",
       "    </tr>\n",
       "    <tr>\n",
       "      <th>1</th>\n",
       "      <td>CHEMBL188487</td>\n",
       "      <td>O=C1C(=O)N(Cc2ccc(F)cc2Cl)c2ccc(I)cc21</td>\n",
       "      <td>9400.0</td>\n",
       "    </tr>\n",
       "    <tr>\n",
       "      <th>2</th>\n",
       "      <td>CHEMBL185698</td>\n",
       "      <td>O=C1C(=O)N(CC2COc3ccccc3O2)c2ccc(I)cc21</td>\n",
       "      <td>13500.0</td>\n",
       "    </tr>\n",
       "    <tr>\n",
       "      <th>3</th>\n",
       "      <td>CHEMBL426082</td>\n",
       "      <td>O=C1C(=O)N(Cc2cc3ccccc3s2)c2ccccc21</td>\n",
       "      <td>13110.0</td>\n",
       "    </tr>\n",
       "    <tr>\n",
       "      <th>4</th>\n",
       "      <td>CHEMBL187717</td>\n",
       "      <td>O=C1C(=O)N(Cc2cc3ccccc3s2)c2c1cccc2[N+](=O)[O-]</td>\n",
       "      <td>2000.0</td>\n",
       "    </tr>\n",
       "    <tr>\n",
       "      <th>...</th>\n",
       "      <td>...</td>\n",
       "      <td>...</td>\n",
       "      <td>...</td>\n",
       "    </tr>\n",
       "    <tr>\n",
       "      <th>128</th>\n",
       "      <td>CHEMBL2146517</td>\n",
       "      <td>COC(=O)[C@@]1(C)CCCc2c1ccc1c2C(=O)C(=O)c2c(C)c...</td>\n",
       "      <td>10600.0</td>\n",
       "    </tr>\n",
       "    <tr>\n",
       "      <th>129</th>\n",
       "      <td>CHEMBL187460</td>\n",
       "      <td>C[C@H]1COC2=C1C(=O)C(=O)c1c2ccc2c1CCCC2(C)C</td>\n",
       "      <td>10100.0</td>\n",
       "    </tr>\n",
       "    <tr>\n",
       "      <th>130</th>\n",
       "      <td>CHEMBL363535</td>\n",
       "      <td>Cc1coc2c1C(=O)C(=O)c1c-2ccc2c(C)cccc12</td>\n",
       "      <td>11500.0</td>\n",
       "    </tr>\n",
       "    <tr>\n",
       "      <th>131</th>\n",
       "      <td>CHEMBL227075</td>\n",
       "      <td>Cc1cccc2c3c(ccc12)C1=C(C(=O)C3=O)[C@@H](C)CO1</td>\n",
       "      <td>10700.0</td>\n",
       "    </tr>\n",
       "    <tr>\n",
       "      <th>132</th>\n",
       "      <td>CHEMBL45830</td>\n",
       "      <td>CC(C)C1=Cc2ccc3c(c2C(=O)C1=O)CCCC3(C)C</td>\n",
       "      <td>78900.0</td>\n",
       "    </tr>\n",
       "  </tbody>\n",
       "</table>\n",
       "<p>133 rows × 3 columns</p>\n",
       "</div>"
      ],
      "text/plain": [
       "       molecule_id  ... standard_value\n",
       "0     CHEMBL187579  ...         7200.0\n",
       "1     CHEMBL188487  ...         9400.0\n",
       "2     CHEMBL185698  ...        13500.0\n",
       "3     CHEMBL426082  ...        13110.0\n",
       "4     CHEMBL187717  ...         2000.0\n",
       "..             ...  ...            ...\n",
       "128  CHEMBL2146517  ...        10600.0\n",
       "129   CHEMBL187460  ...        10100.0\n",
       "130   CHEMBL363535  ...        11500.0\n",
       "131   CHEMBL227075  ...        10700.0\n",
       "132    CHEMBL45830  ...        78900.0\n",
       "\n",
       "[133 rows x 3 columns]"
      ]
     },
     "execution_count": 43,
     "metadata": {
      "tags": []
     },
     "output_type": "execute_result"
    }
   ],
   "source": [
    "selection = ['molecule_id', 'smiles', 'standard_value']\n",
    "data3 = data2[selection]\n",
    "data3"
   ]
  },
  {
   "cell_type": "code",
   "execution_count": null,
   "metadata": {
    "id": "s_P58rvmUe6D"
   },
   "outputs": [],
   "source": [
    "data3 = pd.concat((data3,pd.Series(bioactivity_class, name='activity')), axis=1)"
   ]
  },
  {
   "cell_type": "markdown",
   "metadata": {
    "id": "cJRsj1JwoQJA"
   },
   "source": [
    "## Descriptor(Lipinski)\n",
    "\n",
    "1997년 Pfizer의 과학자 인 Christopher A. Lipinski는 구강복용하는 약물이 상대적으로 크기가 작고 지용성이라는 것을 관찰하여 이 규칙을 고안하였습니다.\n",
    "\n",
    "**Lipinski's Rule,** Rule of five(RO5)라고도 불리는데 Druglikeness를 판단하거나 화합물이 구강투여될만한 특성을 갖고있는지를 판단하는데 쓰입니다.\n",
    "\n",
    "Such druglikeness is based on the **Absorption, Distribution, Metabolism** and **Excretion** (**ADME**) that is also known as the pharmacokinetic profile. \n",
    "\n",
    "The Lipinski's Rule stated the following:\n",
    "\n",
    "* Molecular weight < 500 Dalton\n",
    "* Octanol-water partition coefficient (LogP) < 5\n",
    "* Hydrogen bond donors < 5\n",
    "* Hydrogen bond acceptors < 10"
   ]
  },
  {
   "cell_type": "code",
   "execution_count": null,
   "metadata": {
    "id": "OVTmtM4aUkaP"
   },
   "outputs": [],
   "source": [
    "import numpy as np\n",
    "from rdkit import Chem\n",
    "from rdkit.Chem import Descriptors, Lipinski"
   ]
  },
  {
   "cell_type": "code",
   "execution_count": null,
   "metadata": {
    "id": "56aKakzHUlWi"
   },
   "outputs": [],
   "source": [
    "def descriptor(smiles, verbose=False):\n",
    "\n",
    "    moldata= []\n",
    "    for elem in smiles:\n",
    "        mol=Chem.MolFromSmiles(elem) \n",
    "        moldata.append(mol)\n",
    "       \n",
    "    baseData= np.arange(1,1)\n",
    "    i=0  \n",
    "    for mol in moldata:        \n",
    "       \n",
    "        desc_MolWt = Descriptors.MolWt(mol)\n",
    "        desc_MolLogP = Descriptors.MolLogP(mol)\n",
    "        desc_NumHDonors = Lipinski.NumHDonors(mol)\n",
    "        desc_NumHAcceptors = Lipinski.NumHAcceptors(mol)\n",
    "           \n",
    "        row = np.array([desc_MolWt,\n",
    "                        desc_MolLogP,\n",
    "                        desc_NumHDonors,\n",
    "                        desc_NumHAcceptors])   \n",
    "    \n",
    "        if(i==0):\n",
    "            baseData=row\n",
    "        else:\n",
    "            baseData=np.vstack([baseData, row])\n",
    "        i=i+1      \n",
    "    \n",
    "    columnNames=[\"MW\",\"LogP\",\"NumHDonors\",\"NumHAcceptors\"]   \n",
    "    descriptors = pd.DataFrame(data=baseData,columns=columnNames)\n",
    "    \n",
    "    return descriptors"
   ]
  },
  {
   "cell_type": "code",
   "execution_count": null,
   "metadata": {
    "id": "zP95kKWzGFvS"
   },
   "outputs": [],
   "source": [
    "data3.to_csv(\"corona_activity.csv\", index=False)"
   ]
  },
  {
   "cell_type": "code",
   "execution_count": null,
   "metadata": {
    "colab": {
     "base_uri": "https://localhost:8080/",
     "height": 204
    },
    "id": "XrljLAvQGKgl",
    "outputId": "853ae6e0-ecc3-453a-fa20-a6dd948e21f1"
   },
   "outputs": [
    {
     "data": {
      "text/html": [
       "<div>\n",
       "<style scoped>\n",
       "    .dataframe tbody tr th:only-of-type {\n",
       "        vertical-align: middle;\n",
       "    }\n",
       "\n",
       "    .dataframe tbody tr th {\n",
       "        vertical-align: top;\n",
       "    }\n",
       "\n",
       "    .dataframe thead th {\n",
       "        text-align: right;\n",
       "    }\n",
       "</style>\n",
       "<table border=\"1\" class=\"dataframe\">\n",
       "  <thead>\n",
       "    <tr style=\"text-align: right;\">\n",
       "      <th></th>\n",
       "      <th>molecule_id</th>\n",
       "      <th>smiles</th>\n",
       "      <th>standard_value</th>\n",
       "      <th>activity</th>\n",
       "    </tr>\n",
       "  </thead>\n",
       "  <tbody>\n",
       "    <tr>\n",
       "      <th>0</th>\n",
       "      <td>CHEMBL187579</td>\n",
       "      <td>Cc1noc(C)c1CN1C(=O)C(=O)c2cc(C#N)ccc21</td>\n",
       "      <td>7200.0</td>\n",
       "      <td>intermediate</td>\n",
       "    </tr>\n",
       "    <tr>\n",
       "      <th>1</th>\n",
       "      <td>CHEMBL188487</td>\n",
       "      <td>O=C1C(=O)N(Cc2ccc(F)cc2Cl)c2ccc(I)cc21</td>\n",
       "      <td>9400.0</td>\n",
       "      <td>intermediate</td>\n",
       "    </tr>\n",
       "    <tr>\n",
       "      <th>2</th>\n",
       "      <td>CHEMBL185698</td>\n",
       "      <td>O=C1C(=O)N(CC2COc3ccccc3O2)c2ccc(I)cc21</td>\n",
       "      <td>13500.0</td>\n",
       "      <td>inactive</td>\n",
       "    </tr>\n",
       "    <tr>\n",
       "      <th>3</th>\n",
       "      <td>CHEMBL426082</td>\n",
       "      <td>O=C1C(=O)N(Cc2cc3ccccc3s2)c2ccccc21</td>\n",
       "      <td>13110.0</td>\n",
       "      <td>inactive</td>\n",
       "    </tr>\n",
       "    <tr>\n",
       "      <th>4</th>\n",
       "      <td>CHEMBL187717</td>\n",
       "      <td>O=C1C(=O)N(Cc2cc3ccccc3s2)c2c1cccc2[N+](=O)[O-]</td>\n",
       "      <td>2000.0</td>\n",
       "      <td>intermediate</td>\n",
       "    </tr>\n",
       "  </tbody>\n",
       "</table>\n",
       "</div>"
      ],
      "text/plain": [
       "    molecule_id  ...      activity\n",
       "0  CHEMBL187579  ...  intermediate\n",
       "1  CHEMBL188487  ...  intermediate\n",
       "2  CHEMBL185698  ...      inactive\n",
       "3  CHEMBL426082  ...      inactive\n",
       "4  CHEMBL187717  ...  intermediate\n",
       "\n",
       "[5 rows x 4 columns]"
      ]
     },
     "execution_count": 49,
     "metadata": {
      "tags": []
     },
     "output_type": "execute_result"
    }
   ],
   "source": [
    "corona_data = pd.read_csv(\"corona_activity.csv\")\n",
    "corona_data.head(5)"
   ]
  },
  {
   "cell_type": "code",
   "execution_count": null,
   "metadata": {
    "id": "yJkygIQNUmfH"
   },
   "outputs": [],
   "source": [
    "corona_data_transform = descriptor(corona_data.smiles)"
   ]
  },
  {
   "cell_type": "code",
   "execution_count": null,
   "metadata": {
    "colab": {
     "base_uri": "https://localhost:8080/",
     "height": 204
    },
    "id": "EHYI4GCnUnPD",
    "outputId": "08a74946-6512-407a-f3ae-d8d44740b56b"
   },
   "outputs": [
    {
     "data": {
      "text/html": [
       "<div>\n",
       "<style scoped>\n",
       "    .dataframe tbody tr th:only-of-type {\n",
       "        vertical-align: middle;\n",
       "    }\n",
       "\n",
       "    .dataframe tbody tr th {\n",
       "        vertical-align: top;\n",
       "    }\n",
       "\n",
       "    .dataframe thead th {\n",
       "        text-align: right;\n",
       "    }\n",
       "</style>\n",
       "<table border=\"1\" class=\"dataframe\">\n",
       "  <thead>\n",
       "    <tr style=\"text-align: right;\">\n",
       "      <th></th>\n",
       "      <th>MW</th>\n",
       "      <th>LogP</th>\n",
       "      <th>NumHDonors</th>\n",
       "      <th>NumHAcceptors</th>\n",
       "    </tr>\n",
       "  </thead>\n",
       "  <tbody>\n",
       "    <tr>\n",
       "      <th>0</th>\n",
       "      <td>281.271</td>\n",
       "      <td>1.89262</td>\n",
       "      <td>0.0</td>\n",
       "      <td>5.0</td>\n",
       "    </tr>\n",
       "    <tr>\n",
       "      <th>1</th>\n",
       "      <td>415.589</td>\n",
       "      <td>3.81320</td>\n",
       "      <td>0.0</td>\n",
       "      <td>2.0</td>\n",
       "    </tr>\n",
       "    <tr>\n",
       "      <th>2</th>\n",
       "      <td>421.190</td>\n",
       "      <td>2.66050</td>\n",
       "      <td>0.0</td>\n",
       "      <td>4.0</td>\n",
       "    </tr>\n",
       "    <tr>\n",
       "      <th>3</th>\n",
       "      <td>293.347</td>\n",
       "      <td>3.63080</td>\n",
       "      <td>0.0</td>\n",
       "      <td>3.0</td>\n",
       "    </tr>\n",
       "    <tr>\n",
       "      <th>4</th>\n",
       "      <td>338.344</td>\n",
       "      <td>3.53900</td>\n",
       "      <td>0.0</td>\n",
       "      <td>5.0</td>\n",
       "    </tr>\n",
       "  </tbody>\n",
       "</table>\n",
       "</div>"
      ],
      "text/plain": [
       "        MW     LogP  NumHDonors  NumHAcceptors\n",
       "0  281.271  1.89262         0.0            5.0\n",
       "1  415.589  3.81320         0.0            2.0\n",
       "2  421.190  2.66050         0.0            4.0\n",
       "3  293.347  3.63080         0.0            3.0\n",
       "4  338.344  3.53900         0.0            5.0"
      ]
     },
     "execution_count": 51,
     "metadata": {
      "tags": []
     },
     "output_type": "execute_result"
    }
   ],
   "source": [
    "corona_data_transform.head(5)"
   ]
  },
  {
   "cell_type": "code",
   "execution_count": null,
   "metadata": {
    "colab": {
     "base_uri": "https://localhost:8080/",
     "height": 204
    },
    "id": "Sqf3jH3zUogI",
    "outputId": "9b347791-c583-4a90-ee44-a9bcdfbd6b06"
   },
   "outputs": [
    {
     "data": {
      "text/html": [
       "<div>\n",
       "<style scoped>\n",
       "    .dataframe tbody tr th:only-of-type {\n",
       "        vertical-align: middle;\n",
       "    }\n",
       "\n",
       "    .dataframe tbody tr th {\n",
       "        vertical-align: top;\n",
       "    }\n",
       "\n",
       "    .dataframe thead th {\n",
       "        text-align: right;\n",
       "    }\n",
       "</style>\n",
       "<table border=\"1\" class=\"dataframe\">\n",
       "  <thead>\n",
       "    <tr style=\"text-align: right;\">\n",
       "      <th></th>\n",
       "      <th>molecule_id</th>\n",
       "      <th>smiles</th>\n",
       "      <th>standard_value</th>\n",
       "      <th>activity</th>\n",
       "      <th>MW</th>\n",
       "      <th>LogP</th>\n",
       "      <th>NumHDonors</th>\n",
       "      <th>NumHAcceptors</th>\n",
       "    </tr>\n",
       "  </thead>\n",
       "  <tbody>\n",
       "    <tr>\n",
       "      <th>0</th>\n",
       "      <td>CHEMBL187579</td>\n",
       "      <td>Cc1noc(C)c1CN1C(=O)C(=O)c2cc(C#N)ccc21</td>\n",
       "      <td>7200.0</td>\n",
       "      <td>intermediate</td>\n",
       "      <td>281.271</td>\n",
       "      <td>1.89262</td>\n",
       "      <td>0.0</td>\n",
       "      <td>5.0</td>\n",
       "    </tr>\n",
       "    <tr>\n",
       "      <th>1</th>\n",
       "      <td>CHEMBL188487</td>\n",
       "      <td>O=C1C(=O)N(Cc2ccc(F)cc2Cl)c2ccc(I)cc21</td>\n",
       "      <td>9400.0</td>\n",
       "      <td>intermediate</td>\n",
       "      <td>415.589</td>\n",
       "      <td>3.81320</td>\n",
       "      <td>0.0</td>\n",
       "      <td>2.0</td>\n",
       "    </tr>\n",
       "    <tr>\n",
       "      <th>2</th>\n",
       "      <td>CHEMBL185698</td>\n",
       "      <td>O=C1C(=O)N(CC2COc3ccccc3O2)c2ccc(I)cc21</td>\n",
       "      <td>13500.0</td>\n",
       "      <td>inactive</td>\n",
       "      <td>421.190</td>\n",
       "      <td>2.66050</td>\n",
       "      <td>0.0</td>\n",
       "      <td>4.0</td>\n",
       "    </tr>\n",
       "    <tr>\n",
       "      <th>3</th>\n",
       "      <td>CHEMBL426082</td>\n",
       "      <td>O=C1C(=O)N(Cc2cc3ccccc3s2)c2ccccc21</td>\n",
       "      <td>13110.0</td>\n",
       "      <td>inactive</td>\n",
       "      <td>293.347</td>\n",
       "      <td>3.63080</td>\n",
       "      <td>0.0</td>\n",
       "      <td>3.0</td>\n",
       "    </tr>\n",
       "    <tr>\n",
       "      <th>4</th>\n",
       "      <td>CHEMBL187717</td>\n",
       "      <td>O=C1C(=O)N(Cc2cc3ccccc3s2)c2c1cccc2[N+](=O)[O-]</td>\n",
       "      <td>2000.0</td>\n",
       "      <td>intermediate</td>\n",
       "      <td>338.344</td>\n",
       "      <td>3.53900</td>\n",
       "      <td>0.0</td>\n",
       "      <td>5.0</td>\n",
       "    </tr>\n",
       "  </tbody>\n",
       "</table>\n",
       "</div>"
      ],
      "text/plain": [
       "    molecule_id  ... NumHAcceptors\n",
       "0  CHEMBL187579  ...           5.0\n",
       "1  CHEMBL188487  ...           2.0\n",
       "2  CHEMBL185698  ...           4.0\n",
       "3  CHEMBL426082  ...           3.0\n",
       "4  CHEMBL187717  ...           5.0\n",
       "\n",
       "[5 rows x 8 columns]"
      ]
     },
     "execution_count": 52,
     "metadata": {
      "tags": []
     },
     "output_type": "execute_result"
    }
   ],
   "source": [
    "corona_data = pd.concat([corona_data,corona_data_transform], axis=1)\n",
    "corona_data.head(5)"
   ]
  },
  {
   "cell_type": "markdown",
   "metadata": {
    "id": "yU7Lp8R7oYgU"
   },
   "source": [
    "## **Convert IC50 to pIC50**\n",
    "\n",
    "[IC50](http://www.incodom.kr/IC50)은 inhibitory concentration 50, 저해농도를 뜻합니다. 특정 생물학적 또는 생화학 적 기능을 억제하는 물질의 효과를 측정합니다. 즉, A가 주는 반응이 100%라고 가정했을때, B가 이를 50% 억제할 수 있는 B의 농도를 **A반응에 대한 B의 IC50**이라고 합니다. 만약 IC50이 1.4μg/ml라면 어떤 반응을 50% 저해시키는데 필요한 농도는 1.4μg/ml입니다.\n",
    "\n",
    " **IC50** 데이터가 더 균일하게 분산될 수 있도록 **IC50**를**-log10(IC50)** 척도로 변환 합니다.\n",
    "\n",
    "아래의 함수의 **pIC50()**는 데이터 프레임을 입력받아 값에 $10^-9$을 곱하여 nM(10-9승 M이었음)에서 M으로 데이터를 변환합니다.\n",
    "\n",
    "몰 값을 취하고 -log10을 적용합니다.\n",
    "\n",
    "`standard_value` 열을 제거하고 `pIC50`열을 추가합니다."
   ]
  },
  {
   "cell_type": "code",
   "execution_count": null,
   "metadata": {
    "id": "Ocg1SAb0Uptg"
   },
   "outputs": [],
   "source": [
    "import numpy as np\n",
    "\n",
    "def pIC50(input):\n",
    "    pIC50 = []\n",
    "\n",
    "    for i in input['standard_value']:\n",
    "      if i > 100000000:\n",
    "          i = 100000000\n",
    "      molar = i*(10**-9) # Converts nM to M\n",
    "      pIC50.append(-np.log10(molar))\n",
    "\n",
    "    input['pIC50'] = pIC50\n",
    "    x = input.drop('standard_value', 1)\n",
    "        \n",
    "    return x"
   ]
  },
  {
   "cell_type": "code",
   "execution_count": null,
   "metadata": {
    "colab": {
     "base_uri": "https://localhost:8080/",
     "height": 170
    },
    "id": "UjFxcZuiUqpy",
    "outputId": "f2c53dd1-8952-408f-f5e2-c1b9d2018acc"
   },
   "outputs": [
    {
     "data": {
      "text/plain": [
       "count                 133.0\n",
       "mean      8017925993202.994\n",
       "std      33448884317724.066\n",
       "min                    50.0\n",
       "25%                 10700.0\n",
       "50%                 23500.0\n",
       "75%                300000.0\n",
       "max       331131121482591.0\n",
       "Name: standard_value, dtype: object"
      ]
     },
     "execution_count": 54,
     "metadata": {
      "tags": []
     },
     "output_type": "execute_result"
    }
   ],
   "source": [
    "corona_data.standard_value.describe().apply(\"{0:}\".format)"
   ]
  },
  {
   "cell_type": "code",
   "execution_count": null,
   "metadata": {
    "colab": {
     "base_uri": "https://localhost:8080/",
     "height": 419
    },
    "id": "gP5_eXppUrqP",
    "outputId": "fadacceb-4bdf-44a3-cb4e-aba97bf39afc"
   },
   "outputs": [
    {
     "data": {
      "text/html": [
       "<div>\n",
       "<style scoped>\n",
       "    .dataframe tbody tr th:only-of-type {\n",
       "        vertical-align: middle;\n",
       "    }\n",
       "\n",
       "    .dataframe tbody tr th {\n",
       "        vertical-align: top;\n",
       "    }\n",
       "\n",
       "    .dataframe thead th {\n",
       "        text-align: right;\n",
       "    }\n",
       "</style>\n",
       "<table border=\"1\" class=\"dataframe\">\n",
       "  <thead>\n",
       "    <tr style=\"text-align: right;\">\n",
       "      <th></th>\n",
       "      <th>molecule_id</th>\n",
       "      <th>smiles</th>\n",
       "      <th>activity</th>\n",
       "      <th>MW</th>\n",
       "      <th>LogP</th>\n",
       "      <th>NumHDonors</th>\n",
       "      <th>NumHAcceptors</th>\n",
       "      <th>pIC50</th>\n",
       "    </tr>\n",
       "  </thead>\n",
       "  <tbody>\n",
       "    <tr>\n",
       "      <th>0</th>\n",
       "      <td>CHEMBL187579</td>\n",
       "      <td>Cc1noc(C)c1CN1C(=O)C(=O)c2cc(C#N)ccc21</td>\n",
       "      <td>intermediate</td>\n",
       "      <td>281.271</td>\n",
       "      <td>1.89262</td>\n",
       "      <td>0.0</td>\n",
       "      <td>5.0</td>\n",
       "      <td>5.142668</td>\n",
       "    </tr>\n",
       "    <tr>\n",
       "      <th>1</th>\n",
       "      <td>CHEMBL188487</td>\n",
       "      <td>O=C1C(=O)N(Cc2ccc(F)cc2Cl)c2ccc(I)cc21</td>\n",
       "      <td>intermediate</td>\n",
       "      <td>415.589</td>\n",
       "      <td>3.81320</td>\n",
       "      <td>0.0</td>\n",
       "      <td>2.0</td>\n",
       "      <td>5.026872</td>\n",
       "    </tr>\n",
       "    <tr>\n",
       "      <th>2</th>\n",
       "      <td>CHEMBL185698</td>\n",
       "      <td>O=C1C(=O)N(CC2COc3ccccc3O2)c2ccc(I)cc21</td>\n",
       "      <td>inactive</td>\n",
       "      <td>421.190</td>\n",
       "      <td>2.66050</td>\n",
       "      <td>0.0</td>\n",
       "      <td>4.0</td>\n",
       "      <td>4.869666</td>\n",
       "    </tr>\n",
       "    <tr>\n",
       "      <th>3</th>\n",
       "      <td>CHEMBL426082</td>\n",
       "      <td>O=C1C(=O)N(Cc2cc3ccccc3s2)c2ccccc21</td>\n",
       "      <td>inactive</td>\n",
       "      <td>293.347</td>\n",
       "      <td>3.63080</td>\n",
       "      <td>0.0</td>\n",
       "      <td>3.0</td>\n",
       "      <td>4.882397</td>\n",
       "    </tr>\n",
       "    <tr>\n",
       "      <th>4</th>\n",
       "      <td>CHEMBL187717</td>\n",
       "      <td>O=C1C(=O)N(Cc2cc3ccccc3s2)c2c1cccc2[N+](=O)[O-]</td>\n",
       "      <td>intermediate</td>\n",
       "      <td>338.344</td>\n",
       "      <td>3.53900</td>\n",
       "      <td>0.0</td>\n",
       "      <td>5.0</td>\n",
       "      <td>5.698970</td>\n",
       "    </tr>\n",
       "    <tr>\n",
       "      <th>...</th>\n",
       "      <td>...</td>\n",
       "      <td>...</td>\n",
       "      <td>...</td>\n",
       "      <td>...</td>\n",
       "      <td>...</td>\n",
       "      <td>...</td>\n",
       "      <td>...</td>\n",
       "      <td>...</td>\n",
       "    </tr>\n",
       "    <tr>\n",
       "      <th>128</th>\n",
       "      <td>CHEMBL2146517</td>\n",
       "      <td>COC(=O)[C@@]1(C)CCCc2c1ccc1c2C(=O)C(=O)c2c(C)c...</td>\n",
       "      <td>inactive</td>\n",
       "      <td>338.359</td>\n",
       "      <td>3.40102</td>\n",
       "      <td>0.0</td>\n",
       "      <td>5.0</td>\n",
       "      <td>4.974694</td>\n",
       "    </tr>\n",
       "    <tr>\n",
       "      <th>129</th>\n",
       "      <td>CHEMBL187460</td>\n",
       "      <td>C[C@H]1COC2=C1C(=O)C(=O)c1c2ccc2c1CCCC2(C)C</td>\n",
       "      <td>inactive</td>\n",
       "      <td>296.366</td>\n",
       "      <td>3.44330</td>\n",
       "      <td>0.0</td>\n",
       "      <td>3.0</td>\n",
       "      <td>4.995679</td>\n",
       "    </tr>\n",
       "    <tr>\n",
       "      <th>130</th>\n",
       "      <td>CHEMBL363535</td>\n",
       "      <td>Cc1coc2c1C(=O)C(=O)c1c-2ccc2c(C)cccc12</td>\n",
       "      <td>inactive</td>\n",
       "      <td>276.291</td>\n",
       "      <td>4.09564</td>\n",
       "      <td>0.0</td>\n",
       "      <td>3.0</td>\n",
       "      <td>4.939302</td>\n",
       "    </tr>\n",
       "    <tr>\n",
       "      <th>131</th>\n",
       "      <td>CHEMBL227075</td>\n",
       "      <td>Cc1cccc2c3c(ccc12)C1=C(C(=O)C3=O)[C@@H](C)CO1</td>\n",
       "      <td>inactive</td>\n",
       "      <td>278.307</td>\n",
       "      <td>3.29102</td>\n",
       "      <td>0.0</td>\n",
       "      <td>3.0</td>\n",
       "      <td>4.970616</td>\n",
       "    </tr>\n",
       "    <tr>\n",
       "      <th>132</th>\n",
       "      <td>CHEMBL45830</td>\n",
       "      <td>CC(C)C1=Cc2ccc3c(c2C(=O)C1=O)CCCC3(C)C</td>\n",
       "      <td>inactive</td>\n",
       "      <td>282.383</td>\n",
       "      <td>4.10530</td>\n",
       "      <td>0.0</td>\n",
       "      <td>2.0</td>\n",
       "      <td>4.102923</td>\n",
       "    </tr>\n",
       "  </tbody>\n",
       "</table>\n",
       "<p>133 rows × 8 columns</p>\n",
       "</div>"
      ],
      "text/plain": [
       "       molecule_id  ...     pIC50\n",
       "0     CHEMBL187579  ...  5.142668\n",
       "1     CHEMBL188487  ...  5.026872\n",
       "2     CHEMBL185698  ...  4.869666\n",
       "3     CHEMBL426082  ...  4.882397\n",
       "4     CHEMBL187717  ...  5.698970\n",
       "..             ...  ...       ...\n",
       "128  CHEMBL2146517  ...  4.974694\n",
       "129   CHEMBL187460  ...  4.995679\n",
       "130   CHEMBL363535  ...  4.939302\n",
       "131   CHEMBL227075  ...  4.970616\n",
       "132    CHEMBL45830  ...  4.102923\n",
       "\n",
       "[133 rows x 8 columns]"
      ]
     },
     "execution_count": 55,
     "metadata": {
      "tags": []
     },
     "output_type": "execute_result"
    }
   ],
   "source": [
    "corona_data=pIC50(corona_data)\n",
    "corona_data"
   ]
  },
  {
   "cell_type": "code",
   "execution_count": null,
   "metadata": {
    "colab": {
     "base_uri": "https://localhost:8080/",
     "height": 170
    },
    "id": "S66j_QPaUs0V",
    "outputId": "5c3a2404-669b-4261-c9ba-dd834adf9f65"
   },
   "outputs": [
    {
     "data": {
      "text/plain": [
       "count    133.000000\n",
       "mean       4.060148\n",
       "std        1.783762\n",
       "min        1.000000\n",
       "25%        3.522879\n",
       "50%        4.628932\n",
       "75%        4.970616\n",
       "max        7.301030\n",
       "Name: pIC50, dtype: float64"
      ]
     },
     "execution_count": 56,
     "metadata": {
      "tags": []
     },
     "output_type": "execute_result"
    }
   ],
   "source": [
    "corona_data.pIC50.describe()"
   ]
  },
  {
   "cell_type": "markdown",
   "metadata": {
    "id": "yireNFq6oj-f"
   },
   "source": [
    "## EDA"
   ]
  },
  {
   "cell_type": "code",
   "execution_count": null,
   "metadata": {
    "id": "GcS9eOrNomz-"
   },
   "outputs": [],
   "source": [
    "import matplotlib.pyplot as plt\n",
    "import seaborn as sns"
   ]
  },
  {
   "cell_type": "code",
   "execution_count": null,
   "metadata": {
    "colab": {
     "base_uri": "https://localhost:8080/",
     "height": 382
    },
    "id": "w02ACvqQovCK",
    "outputId": "d52bb0fa-9e06-42bc-d4f2-44ede36e6369"
   },
   "outputs": [
    {
     "data": {
      "text/plain": [
       "Text(0, 0.5, 'Frequency')"
      ]
     },
     "execution_count": 58,
     "metadata": {
      "tags": []
     },
     "output_type": "execute_result"
    },
    {
     "data": {
      "image/png": "[encoded data removed]",
      "text/plain": [
       "<Figure size 396x396 with 1 Axes>"
      ]
     },
     "metadata": {
      "needs_background": "light",
      "tags": []
     },
     "output_type": "display_data"
    }
   ],
   "source": [
    "plt.figure(figsize=(5.5, 5.5))\n",
    "\n",
    "sns.countplot(x='activity', data=corona_data, edgecolor='black')\n",
    "\n",
    "plt.xlabel('Bioactivity', fontsize=14, fontweight='bold')\n",
    "plt.ylabel('Frequency', fontsize=14, fontweight='bold')"
   ]
  },
  {
   "cell_type": "code",
   "execution_count": null,
   "metadata": {
    "colab": {
     "base_uri": "https://localhost:8080/",
     "height": 382
    },
    "id": "lnvQUrnSowB-",
    "outputId": "36a66b5b-1867-4bee-b0bc-b40a25e2de4d"
   },
   "outputs": [
    {
     "data": {
      "text/plain": [
       "<matplotlib.legend.Legend at 0x7f22f3ee3b38>"
      ]
     },
     "execution_count": 59,
     "metadata": {
      "tags": []
     },
     "output_type": "execute_result"
    },
    {
     "data": {
      "image/png": "[encoded data removed]",
      "text/plain": [
       "<Figure size 396x396 with 1 Axes>"
      ]
     },
     "metadata": {
      "needs_background": "light",
      "tags": []
     },
     "output_type": "display_data"
    }
   ],
   "source": [
    "plt.figure(figsize=(5.5, 5.5))\n",
    "\n",
    "sns.scatterplot(x='MW', y='LogP', data=corona_data, hue='activity', size='pIC50', edgecolor='black', alpha=0.7)\n",
    "\n",
    "plt.xlabel('MW', fontsize=14, fontweight='bold')\n",
    "plt.ylabel('LogP', fontsize=14, fontweight='bold')\n",
    "plt.legend(bbox_to_anchor=(1.05, 1), loc=2, borderaxespad=0)"
   ]
  },
  {
   "cell_type": "code",
   "execution_count": null,
   "metadata": {
    "colab": {
     "base_uri": "https://localhost:8080/",
     "height": 382
    },
    "id": "josJyDRGoxm9",
    "outputId": "15a853b2-eaaf-46fb-bab1-2693b71c6ec0"
   },
   "outputs": [
    {
     "data": {
      "text/plain": [
       "Text(0, 0.5, 'pIC50 value')"
      ]
     },
     "execution_count": 60,
     "metadata": {
      "tags": []
     },
     "output_type": "execute_result"
    },
    {
     "data": {
      "image/png": "[encoded data removed]",
      "text/plain": [
       "<Figure size 396x396 with 1 Axes>"
      ]
     },
     "metadata": {
      "needs_background": "light",
      "tags": []
     },
     "output_type": "display_data"
    }
   ],
   "source": [
    "plt.figure(figsize=(5.5, 5.5))\n",
    "\n",
    "sns.boxplot(x = 'activity', y = 'pIC50', data = corona_data)\n",
    "\n",
    "plt.xlabel('Bioactivity class', fontsize=14, fontweight='bold')\n",
    "plt.ylabel('pIC50 value', fontsize=14, fontweight='bold')"
   ]
  },
  {
   "cell_type": "code",
   "execution_count": null,
   "metadata": {
    "colab": {
     "base_uri": "https://localhost:8080/",
     "height": 382
    },
    "id": "J1xrrMgzozQ2",
    "outputId": "19803a78-1c4b-48dc-c58f-43fca27741b5"
   },
   "outputs": [
    {
     "data": {
      "text/plain": [
       "Text(0, 0.5, 'MW')"
      ]
     },
     "execution_count": 61,
     "metadata": {
      "tags": []
     },
     "output_type": "execute_result"
    },
    {
     "data": {
      "image/png": "[encoded data removed]",
      "text/plain": [
       "<Figure size 396x396 with 1 Axes>"
      ]
     },
     "metadata": {
      "needs_background": "light",
      "tags": []
     },
     "output_type": "display_data"
    }
   ],
   "source": [
    "plt.figure(figsize=(5.5, 5.5))\n",
    "\n",
    "sns.boxplot(x = 'activity', y = 'MW', data = corona_data)\n",
    "\n",
    "plt.xlabel('Bioactivity class', fontsize=14, fontweight='bold')\n",
    "plt.ylabel('MW', fontsize=14, fontweight='bold')"
   ]
  },
  {
   "cell_type": "code",
   "execution_count": null,
   "metadata": {
    "colab": {
     "base_uri": "https://localhost:8080/",
     "height": 382
    },
    "id": "HREb8LI-o1jy",
    "outputId": "cb5e1b39-048d-4f13-bd92-71b5d5b4f1a4"
   },
   "outputs": [
    {
     "data": {
      "text/plain": [
       "Text(0, 0.5, 'LogP')"
      ]
     },
     "execution_count": 62,
     "metadata": {
      "tags": []
     },
     "output_type": "execute_result"
    },
    {
     "data": {
      "image/png": "[encoded data removed]",
      "text/plain": [
       "<Figure size 396x396 with 1 Axes>"
      ]
     },
     "metadata": {
      "needs_background": "light",
      "tags": []
     },
     "output_type": "display_data"
    }
   ],
   "source": [
    "plt.figure(figsize=(5.5, 5.5))\n",
    "\n",
    "sns.boxplot(x = 'activity', y = 'LogP', data = corona_data)\n",
    "\n",
    "plt.xlabel('Bioactivity class', fontsize=14, fontweight='bold')\n",
    "plt.ylabel('LogP', fontsize=14, fontweight='bold')"
   ]
  },
  {
   "cell_type": "code",
   "execution_count": null,
   "metadata": {
    "colab": {
     "base_uri": "https://localhost:8080/",
     "height": 382
    },
    "id": "ho6Vu0dao22_",
    "outputId": "72d09742-ebea-49dc-99b5-e8e8baefcae8"
   },
   "outputs": [
    {
     "data": {
      "text/plain": [
       "Text(0, 0.5, 'NumHDonors')"
      ]
     },
     "execution_count": 63,
     "metadata": {
      "tags": []
     },
     "output_type": "execute_result"
    },
    {
     "data": {
      "image/png": "[encoded data removed]",
      "text/plain": [
       "<Figure size 396x396 with 1 Axes>"
      ]
     },
     "metadata": {
      "needs_background": "light",
      "tags": []
     },
     "output_type": "display_data"
    }
   ],
   "source": [
    "plt.figure(figsize=(5.5, 5.5))\n",
    "\n",
    "sns.boxplot(x = 'activity', y = 'NumHDonors', data = corona_data)\n",
    "\n",
    "plt.xlabel('Bioactivity class', fontsize=14, fontweight='bold')\n",
    "plt.ylabel('NumHDonors', fontsize=14, fontweight='bold')"
   ]
  },
  {
   "cell_type": "code",
   "execution_count": null,
   "metadata": {
    "colab": {
     "base_uri": "https://localhost:8080/",
     "height": 382
    },
    "id": "LGmhbBSmo4yQ",
    "outputId": "d5714d4f-1f41-4bb2-de72-56508e308739"
   },
   "outputs": [
    {
     "data": {
      "text/plain": [
       "Text(0, 0.5, 'NumHAcceptors')"
      ]
     },
     "execution_count": 64,
     "metadata": {
      "tags": []
     },
     "output_type": "execute_result"
    },
    {
     "data": {
      "image/png": "[encoded data removed]",
      "text/plain": [
       "<Figure size 396x396 with 1 Axes>"
      ]
     },
     "metadata": {
      "needs_background": "light",
      "tags": []
     },
     "output_type": "display_data"
    }
   ],
   "source": [
    "plt.figure(figsize=(5.5, 5.5))\n",
    "\n",
    "sns.boxplot(x = 'activity', y = 'NumHAcceptors', data = corona_data)\n",
    "\n",
    "plt.xlabel('Bioactivity class', fontsize=14, fontweight='bold')\n",
    "plt.ylabel('NumHAcceptors', fontsize=14, fontweight='bold')"
   ]
  },
  {
   "cell_type": "code",
   "execution_count": null,
   "metadata": {
    "colab": {
     "base_uri": "https://localhost:8080/",
     "height": 903
    },
    "id": "Kx3eqZEbo6As",
    "outputId": "d1596f78-f8ae-4490-8a22-fe635b55bd58"
   },
   "outputs": [
    {
     "data": {
      "image/png": "[encoded data removed]",
      "text/plain": [
       "<Figure size 900x900 with 30 Axes>"
      ]
     },
     "metadata": {
      "needs_background": "light",
      "tags": []
     },
     "output_type": "display_data"
    }
   ],
   "source": [
    "sns.pairplot(data=corona_data)\n",
    "plt.show()"
   ]
  },
  {
   "cell_type": "markdown",
   "metadata": {
    "id": "B2asu_Hon4EL"
   },
   "source": [
    "## Export Data"
   ]
  },
  {
   "cell_type": "code",
   "execution_count": null,
   "metadata": {
    "id": "eZc1Ps_dUgqc"
   },
   "outputs": [],
   "source": [
    "corona_data.to_csv(\"corona_processed.csv\", index=False)"
   ]
  },
  {
   "cell_type": "code",
   "execution_count": null,
   "metadata": {
    "id": "gwFxFblJGOXa"
   },
   "outputs": [],
   "source": []
  }
 ],
 "metadata": {
  "colab": {
   "collapsed_sections": [],
   "name": "Molecular Visualization using RDkit",
   "provenance": [],
   "toc_visible": true
  },
  "kernelspec": {
   "display_name": "Python 3",
   "language": "python",
   "name": "python3"
  },
  "language_info": {
   "codemirror_mode": {
    "name": "ipython",
    "version": 3
   },
   "file_extension": ".py",
   "mimetype": "text/x-python",
   "name": "python",
   "nbconvert_exporter": "python",
   "pygments_lexer": "ipython3",
   "version": "3.7.6"
  },
  "toc": {
   "base_numbering": 1,
   "nav_menu": {},
   "number_sections": true,
   "sideBar": true,
   "skip_h1_title": false,
   "title_cell": "Table of Contents",
   "title_sidebar": "Contents",
   "toc_cell": false,
   "toc_position": {},
   "toc_section_display": true,
   "toc_window_display": false
  }
 },
 "nbformat": 4,
 "nbformat_minor": 1
}
